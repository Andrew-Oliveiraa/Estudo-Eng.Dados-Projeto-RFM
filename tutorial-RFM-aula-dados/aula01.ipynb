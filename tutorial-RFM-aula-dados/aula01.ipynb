{
 "cells": [
  {
   "cell_type": "code",
   "execution_count": 1,
   "metadata": {},
   "outputs": [],
   "source": [
    "import squarify\n",
    "import pandas as pd\n",
    "import seaborn as sns\n",
    "import plotly.graph_objects as go\n",
    "import matplotlib.pyplot as plt\n",
    "from sklearn.preprocessing import LabelEncoder\n",
    "from datetime import datetime, timedelta"
   ]
  },
  {
   "cell_type": "markdown",
   "metadata": {},
   "source": [
    "## Carregando e Explorando os Dados"
   ]
  },
  {
   "cell_type": "code",
   "execution_count": 2,
   "metadata": {},
   "outputs": [],
   "source": [
    "# Carrega o dataset\n",
    "df = pd.read_csv(\"C:/Users\\Andre/Desktop/visualizar aula-dados/.venv/dataset.csv\")\n"
   ]
  },
  {
   "cell_type": "code",
   "execution_count": 3,
   "metadata": {},
   "outputs": [
    {
     "data": {
      "text/plain": [
       "(116581, 53)"
      ]
     },
     "execution_count": 3,
     "metadata": {},
     "output_type": "execute_result"
    }
   ],
   "source": [
    "# Shape\n",
    "df.shape"
   ]
  },
  {
   "cell_type": "code",
   "execution_count": 4,
   "metadata": {},
   "outputs": [
    {
     "data": {
      "text/html": [
       "<div>\n",
       "<style scoped>\n",
       "    .dataframe tbody tr th:only-of-type {\n",
       "        vertical-align: middle;\n",
       "    }\n",
       "\n",
       "    .dataframe tbody tr th {\n",
       "        vertical-align: top;\n",
       "    }\n",
       "\n",
       "    .dataframe thead th {\n",
       "        text-align: right;\n",
       "    }\n",
       "</style>\n",
       "<table border=\"1\" class=\"dataframe\">\n",
       "  <thead>\n",
       "    <tr style=\"text-align: right;\">\n",
       "      <th></th>\n",
       "      <th>order_id</th>\n",
       "      <th>order_id3</th>\n",
       "      <th>customer_id3</th>\n",
       "      <th>order_status</th>\n",
       "      <th>order_purchase_timestamp</th>\n",
       "      <th>order_approved_at</th>\n",
       "      <th>order_delivered_carrier_date</th>\n",
       "      <th>order_delivered_customer_date</th>\n",
       "      <th>order_estimated_delivery_date</th>\n",
       "      <th>order_item_id</th>\n",
       "      <th>...</th>\n",
       "      <th>seller_city</th>\n",
       "      <th>seller_state</th>\n",
       "      <th>product_category_name_english</th>\n",
       "      <th>review_response_time</th>\n",
       "      <th>order_purchase_year</th>\n",
       "      <th>order_purchase_month</th>\n",
       "      <th>order_purchase_dayofweek</th>\n",
       "      <th>order_purchase_hour</th>\n",
       "      <th>order_purchase_day</th>\n",
       "      <th>order_purchase_mon</th>\n",
       "    </tr>\n",
       "  </thead>\n",
       "  <tbody>\n",
       "    <tr>\n",
       "      <th>0</th>\n",
       "      <td>ON34305</td>\n",
       "      <td>e481f51cbdc54678b7cc49136f2d6af7</td>\n",
       "      <td>9ef432eb6251297304e76186b10a928d</td>\n",
       "      <td>delivered</td>\n",
       "      <td>2017-10-02 10:56:33</td>\n",
       "      <td>2017-10-02 11:07:15</td>\n",
       "      <td>2017-10-04 19:55:00</td>\n",
       "      <td>2017-10-10 21:25:13</td>\n",
       "      <td>2017-10-18 00:00:00</td>\n",
       "      <td>1.0</td>\n",
       "      <td>...</td>\n",
       "      <td>Maua</td>\n",
       "      <td>SP</td>\n",
       "      <td>housewares</td>\n",
       "      <td>1.0</td>\n",
       "      <td>2017</td>\n",
       "      <td>10</td>\n",
       "      <td>0</td>\n",
       "      <td>10</td>\n",
       "      <td>Mon</td>\n",
       "      <td>Oct</td>\n",
       "    </tr>\n",
       "    <tr>\n",
       "      <th>1</th>\n",
       "      <td>ON34305</td>\n",
       "      <td>e481f51cbdc54678b7cc49136f2d6af7</td>\n",
       "      <td>9ef432eb6251297304e76186b10a928d</td>\n",
       "      <td>delivered</td>\n",
       "      <td>2017-10-02 10:56:33</td>\n",
       "      <td>2017-10-02 11:07:15</td>\n",
       "      <td>2017-10-04 19:55:00</td>\n",
       "      <td>2017-10-10 21:25:13</td>\n",
       "      <td>2017-10-18 00:00:00</td>\n",
       "      <td>1.0</td>\n",
       "      <td>...</td>\n",
       "      <td>Maua</td>\n",
       "      <td>SP</td>\n",
       "      <td>housewares</td>\n",
       "      <td>1.0</td>\n",
       "      <td>2017</td>\n",
       "      <td>10</td>\n",
       "      <td>0</td>\n",
       "      <td>10</td>\n",
       "      <td>Mon</td>\n",
       "      <td>Oct</td>\n",
       "    </tr>\n",
       "    <tr>\n",
       "      <th>2</th>\n",
       "      <td>ON34305</td>\n",
       "      <td>e481f51cbdc54678b7cc49136f2d6af7</td>\n",
       "      <td>9ef432eb6251297304e76186b10a928d</td>\n",
       "      <td>delivered</td>\n",
       "      <td>2017-10-02 10:56:33</td>\n",
       "      <td>2017-10-02 11:07:15</td>\n",
       "      <td>2017-10-04 19:55:00</td>\n",
       "      <td>2017-10-10 21:25:13</td>\n",
       "      <td>2017-10-18 00:00:00</td>\n",
       "      <td>1.0</td>\n",
       "      <td>...</td>\n",
       "      <td>Maua</td>\n",
       "      <td>SP</td>\n",
       "      <td>housewares</td>\n",
       "      <td>1.0</td>\n",
       "      <td>2017</td>\n",
       "      <td>10</td>\n",
       "      <td>0</td>\n",
       "      <td>10</td>\n",
       "      <td>Mon</td>\n",
       "      <td>Oct</td>\n",
       "    </tr>\n",
       "    <tr>\n",
       "      <th>3</th>\n",
       "      <td>ON40291</td>\n",
       "      <td>128e10d95713541c87cd1a2e48201934</td>\n",
       "      <td>a20e8105f23924cd00833fd87daa0831</td>\n",
       "      <td>delivered</td>\n",
       "      <td>2017-08-15 18:29:31</td>\n",
       "      <td>2017-08-15 20:05:16</td>\n",
       "      <td>2017-08-17 15:28:33</td>\n",
       "      <td>2017-08-18 14:44:43</td>\n",
       "      <td>2017-08-28 00:00:00</td>\n",
       "      <td>1.0</td>\n",
       "      <td>...</td>\n",
       "      <td>Maua</td>\n",
       "      <td>SP</td>\n",
       "      <td>housewares</td>\n",
       "      <td>1.0</td>\n",
       "      <td>2017</td>\n",
       "      <td>8</td>\n",
       "      <td>1</td>\n",
       "      <td>18</td>\n",
       "      <td>Tue</td>\n",
       "      <td>Aug</td>\n",
       "    </tr>\n",
       "    <tr>\n",
       "      <th>4</th>\n",
       "      <td>ON74313</td>\n",
       "      <td>0e7e841ddf8f8f2de2bad69267ecfbcf</td>\n",
       "      <td>26c7ac168e1433912a51b924fbd34d34</td>\n",
       "      <td>delivered</td>\n",
       "      <td>2017-08-02 18:24:47</td>\n",
       "      <td>2017-08-02 18:43:15</td>\n",
       "      <td>2017-08-04 17:35:43</td>\n",
       "      <td>2017-08-07 18:30:01</td>\n",
       "      <td>2017-08-15 00:00:00</td>\n",
       "      <td>1.0</td>\n",
       "      <td>...</td>\n",
       "      <td>Maua</td>\n",
       "      <td>SP</td>\n",
       "      <td>housewares</td>\n",
       "      <td>0.0</td>\n",
       "      <td>2017</td>\n",
       "      <td>8</td>\n",
       "      <td>2</td>\n",
       "      <td>18</td>\n",
       "      <td>Wed</td>\n",
       "      <td>Aug</td>\n",
       "    </tr>\n",
       "  </tbody>\n",
       "</table>\n",
       "<p>5 rows × 53 columns</p>\n",
       "</div>"
      ],
      "text/plain": [
       "  order_id                         order_id3  \\\n",
       "0  ON34305  e481f51cbdc54678b7cc49136f2d6af7   \n",
       "1  ON34305  e481f51cbdc54678b7cc49136f2d6af7   \n",
       "2  ON34305  e481f51cbdc54678b7cc49136f2d6af7   \n",
       "3  ON40291  128e10d95713541c87cd1a2e48201934   \n",
       "4  ON74313  0e7e841ddf8f8f2de2bad69267ecfbcf   \n",
       "\n",
       "                       customer_id3 order_status order_purchase_timestamp  \\\n",
       "0  9ef432eb6251297304e76186b10a928d    delivered      2017-10-02 10:56:33   \n",
       "1  9ef432eb6251297304e76186b10a928d    delivered      2017-10-02 10:56:33   \n",
       "2  9ef432eb6251297304e76186b10a928d    delivered      2017-10-02 10:56:33   \n",
       "3  a20e8105f23924cd00833fd87daa0831    delivered      2017-08-15 18:29:31   \n",
       "4  26c7ac168e1433912a51b924fbd34d34    delivered      2017-08-02 18:24:47   \n",
       "\n",
       "     order_approved_at order_delivered_carrier_date  \\\n",
       "0  2017-10-02 11:07:15          2017-10-04 19:55:00   \n",
       "1  2017-10-02 11:07:15          2017-10-04 19:55:00   \n",
       "2  2017-10-02 11:07:15          2017-10-04 19:55:00   \n",
       "3  2017-08-15 20:05:16          2017-08-17 15:28:33   \n",
       "4  2017-08-02 18:43:15          2017-08-04 17:35:43   \n",
       "\n",
       "  order_delivered_customer_date order_estimated_delivery_date  order_item_id  \\\n",
       "0           2017-10-10 21:25:13           2017-10-18 00:00:00            1.0   \n",
       "1           2017-10-10 21:25:13           2017-10-18 00:00:00            1.0   \n",
       "2           2017-10-10 21:25:13           2017-10-18 00:00:00            1.0   \n",
       "3           2017-08-18 14:44:43           2017-08-28 00:00:00            1.0   \n",
       "4           2017-08-07 18:30:01           2017-08-15 00:00:00            1.0   \n",
       "\n",
       "   ... seller_city seller_state product_category_name_english  \\\n",
       "0  ...        Maua           SP                    housewares   \n",
       "1  ...        Maua           SP                    housewares   \n",
       "2  ...        Maua           SP                    housewares   \n",
       "3  ...        Maua           SP                    housewares   \n",
       "4  ...        Maua           SP                    housewares   \n",
       "\n",
       "   review_response_time  order_purchase_year  order_purchase_month  \\\n",
       "0                   1.0                 2017                    10   \n",
       "1                   1.0                 2017                    10   \n",
       "2                   1.0                 2017                    10   \n",
       "3                   1.0                 2017                     8   \n",
       "4                   0.0                 2017                     8   \n",
       "\n",
       "  order_purchase_dayofweek  order_purchase_hour  order_purchase_day  \\\n",
       "0                        0                   10                 Mon   \n",
       "1                        0                   10                 Mon   \n",
       "2                        0                   10                 Mon   \n",
       "3                        1                   18                 Tue   \n",
       "4                        2                   18                 Wed   \n",
       "\n",
       "  order_purchase_mon  \n",
       "0                Oct  \n",
       "1                Oct  \n",
       "2                Oct  \n",
       "3                Aug  \n",
       "4                Aug  \n",
       "\n",
       "[5 rows x 53 columns]"
      ]
     },
     "execution_count": 4,
     "metadata": {},
     "output_type": "execute_result"
    }
   ],
   "source": [
    "# Amostra de dados\n",
    "df.head()"
   ]
  },
  {
   "cell_type": "code",
   "execution_count": 5,
   "metadata": {},
   "outputs": [
    {
     "name": "stdout",
     "output_type": "stream",
     "text": [
      "<class 'pandas.core.frame.DataFrame'>\n",
      "RangeIndex: 116581 entries, 0 to 116580\n",
      "Data columns (total 53 columns):\n",
      " #   Column                         Non-Null Count   Dtype  \n",
      "---  ------                         --------------   -----  \n",
      " 0   order_id                       116581 non-null  object \n",
      " 1   order_id3                      116581 non-null  object \n",
      " 2   customer_id3                   116581 non-null  object \n",
      " 3   order_status                   116581 non-null  object \n",
      " 4   order_purchase_timestamp       116581 non-null  object \n",
      " 5   order_approved_at              116581 non-null  object \n",
      " 6   order_delivered_carrier_date   116581 non-null  object \n",
      " 7   order_delivered_customer_date  116581 non-null  object \n",
      " 8   order_estimated_delivery_date  116581 non-null  object \n",
      " 9   order_item_id                  116581 non-null  float64\n",
      " 10  product_id3                    116581 non-null  object \n",
      " 11  seller_id3                     116581 non-null  object \n",
      " 12  shipping_limit_date            116581 non-null  object \n",
      " 13  price                          116581 non-null  float64\n",
      " 14  freight_value                  116581 non-null  float64\n",
      " 15  payment_sequential             116581 non-null  int64  \n",
      " 16  payment_type                   116581 non-null  object \n",
      " 17  payment_installments           116581 non-null  int64  \n",
      " 18  payment_value                  116581 non-null  float64\n",
      " 19  review_id                      116581 non-null  object \n",
      " 20  review_id3                     116581 non-null  object \n",
      " 21  review_score                   116581 non-null  float64\n",
      " 22  review_comment_title           13996 non-null   object \n",
      " 23  review_comment_message         49878 non-null   object \n",
      " 24  review_creation_date           116578 non-null  object \n",
      " 25  review_answer_timestamp        116578 non-null  object \n",
      " 26  product_id                     116581 non-null  object \n",
      " 27  product_category_name          116581 non-null  object \n",
      " 28  product_name_lenght            116581 non-null  float64\n",
      " 29  product_description_lenght     116581 non-null  float64\n",
      " 30  product_photos_qty             116581 non-null  float64\n",
      " 31  product_weight_g               116580 non-null  float64\n",
      " 32  product_length_cm              116580 non-null  float64\n",
      " 33  product_height_cm              116580 non-null  float64\n",
      " 34  product_width_cm               116580 non-null  float64\n",
      " 35  customer_id                    116581 non-null  int64  \n",
      " 36  customer_unique_id             116581 non-null  object \n",
      " 37  customer_uniqueid3             116581 non-null  object \n",
      " 38  customer_zip_code_prefix       116581 non-null  int64  \n",
      " 39  customer_city                  116581 non-null  object \n",
      " 40  customer_state                 116581 non-null  object \n",
      " 41  seller_id                      116581 non-null  object \n",
      " 42  seller_zip_code_prefix         116581 non-null  int64  \n",
      " 43  seller_city                    116581 non-null  object \n",
      " 44  seller_state                   116581 non-null  object \n",
      " 45  product_category_name_english  116581 non-null  object \n",
      " 46  review_response_time           116578 non-null  float64\n",
      " 47  order_purchase_year            116581 non-null  int64  \n",
      " 48  order_purchase_month           116581 non-null  int64  \n",
      " 49  order_purchase_dayofweek       116581 non-null  int64  \n",
      " 50  order_purchase_hour            116581 non-null  int64  \n",
      " 51  order_purchase_day             116581 non-null  object \n",
      " 52  order_purchase_mon             116581 non-null  object \n",
      "dtypes: float64(13), int64(9), object(31)\n",
      "memory usage: 47.1+ MB\n"
     ]
    }
   ],
   "source": [
    "# Info\n",
    "df.info()"
   ]
  },
  {
   "cell_type": "markdown",
   "metadata": {},
   "source": [
    "## Engenharia de Atributos com as Colunas do Tipo Data\n",
    "\n",
    "A data de compra é importante para nossa análise. Vamos extrair essa informação da coluna order_purchase_timestamp e então criar duas novas colunas."
   ]
  },
  {
   "cell_type": "code",
   "execution_count": 6,
   "metadata": {},
   "outputs": [],
   "source": [
    "# Converte 'order_purchase_timestamp' para datetime sem especificar o formato\n",
    "df['order_purchase_timestamp'] = pd.to_datetime(df['order_purchase_timestamp'])"
   ]
  },
  {
   "cell_type": "code",
   "execution_count": 7,
   "metadata": {},
   "outputs": [],
   "source": [
    "# Extrai apenas a data do timestamp e cria uma nova coluna chamada order_purchase_date\n",
    "df['order_purchase_date'] = df['order_purchase_timestamp'].dt.date"
   ]
  },
  {
   "cell_type": "code",
   "execution_count": 8,
   "metadata": {},
   "outputs": [],
   "source": [
    "# Vamos criar a coluna InvoiceDate\n",
    "df['InvoiceDate'] = df.order_purchase_date.apply(lambda x : datetime.strftime(x, '%Y-%m-%d'))\n",
    "df['InvoiceDate'] = pd.to_datetime(df['InvoiceDate'])"
   ]
  },
  {
   "cell_type": "code",
   "execution_count": 9,
   "metadata": {},
   "outputs": [
    {
     "data": {
      "text/html": [
       "<div>\n",
       "<style scoped>\n",
       "    .dataframe tbody tr th:only-of-type {\n",
       "        vertical-align: middle;\n",
       "    }\n",
       "\n",
       "    .dataframe tbody tr th {\n",
       "        vertical-align: top;\n",
       "    }\n",
       "\n",
       "    .dataframe thead th {\n",
       "        text-align: right;\n",
       "    }\n",
       "</style>\n",
       "<table border=\"1\" class=\"dataframe\">\n",
       "  <thead>\n",
       "    <tr style=\"text-align: right;\">\n",
       "      <th></th>\n",
       "      <th>order_id</th>\n",
       "      <th>order_id3</th>\n",
       "      <th>customer_id3</th>\n",
       "      <th>order_status</th>\n",
       "      <th>order_purchase_timestamp</th>\n",
       "      <th>order_approved_at</th>\n",
       "      <th>order_delivered_carrier_date</th>\n",
       "      <th>order_delivered_customer_date</th>\n",
       "      <th>order_estimated_delivery_date</th>\n",
       "      <th>order_item_id</th>\n",
       "      <th>...</th>\n",
       "      <th>product_category_name_english</th>\n",
       "      <th>review_response_time</th>\n",
       "      <th>order_purchase_year</th>\n",
       "      <th>order_purchase_month</th>\n",
       "      <th>order_purchase_dayofweek</th>\n",
       "      <th>order_purchase_hour</th>\n",
       "      <th>order_purchase_day</th>\n",
       "      <th>order_purchase_mon</th>\n",
       "      <th>order_purchase_date</th>\n",
       "      <th>InvoiceDate</th>\n",
       "    </tr>\n",
       "  </thead>\n",
       "  <tbody>\n",
       "    <tr>\n",
       "      <th>0</th>\n",
       "      <td>ON34305</td>\n",
       "      <td>e481f51cbdc54678b7cc49136f2d6af7</td>\n",
       "      <td>9ef432eb6251297304e76186b10a928d</td>\n",
       "      <td>delivered</td>\n",
       "      <td>2017-10-02 10:56:33</td>\n",
       "      <td>2017-10-02 11:07:15</td>\n",
       "      <td>2017-10-04 19:55:00</td>\n",
       "      <td>2017-10-10 21:25:13</td>\n",
       "      <td>2017-10-18 00:00:00</td>\n",
       "      <td>1.0</td>\n",
       "      <td>...</td>\n",
       "      <td>housewares</td>\n",
       "      <td>1.0</td>\n",
       "      <td>2017</td>\n",
       "      <td>10</td>\n",
       "      <td>0</td>\n",
       "      <td>10</td>\n",
       "      <td>Mon</td>\n",
       "      <td>Oct</td>\n",
       "      <td>2017-10-02</td>\n",
       "      <td>2017-10-02</td>\n",
       "    </tr>\n",
       "    <tr>\n",
       "      <th>1</th>\n",
       "      <td>ON34305</td>\n",
       "      <td>e481f51cbdc54678b7cc49136f2d6af7</td>\n",
       "      <td>9ef432eb6251297304e76186b10a928d</td>\n",
       "      <td>delivered</td>\n",
       "      <td>2017-10-02 10:56:33</td>\n",
       "      <td>2017-10-02 11:07:15</td>\n",
       "      <td>2017-10-04 19:55:00</td>\n",
       "      <td>2017-10-10 21:25:13</td>\n",
       "      <td>2017-10-18 00:00:00</td>\n",
       "      <td>1.0</td>\n",
       "      <td>...</td>\n",
       "      <td>housewares</td>\n",
       "      <td>1.0</td>\n",
       "      <td>2017</td>\n",
       "      <td>10</td>\n",
       "      <td>0</td>\n",
       "      <td>10</td>\n",
       "      <td>Mon</td>\n",
       "      <td>Oct</td>\n",
       "      <td>2017-10-02</td>\n",
       "      <td>2017-10-02</td>\n",
       "    </tr>\n",
       "    <tr>\n",
       "      <th>2</th>\n",
       "      <td>ON34305</td>\n",
       "      <td>e481f51cbdc54678b7cc49136f2d6af7</td>\n",
       "      <td>9ef432eb6251297304e76186b10a928d</td>\n",
       "      <td>delivered</td>\n",
       "      <td>2017-10-02 10:56:33</td>\n",
       "      <td>2017-10-02 11:07:15</td>\n",
       "      <td>2017-10-04 19:55:00</td>\n",
       "      <td>2017-10-10 21:25:13</td>\n",
       "      <td>2017-10-18 00:00:00</td>\n",
       "      <td>1.0</td>\n",
       "      <td>...</td>\n",
       "      <td>housewares</td>\n",
       "      <td>1.0</td>\n",
       "      <td>2017</td>\n",
       "      <td>10</td>\n",
       "      <td>0</td>\n",
       "      <td>10</td>\n",
       "      <td>Mon</td>\n",
       "      <td>Oct</td>\n",
       "      <td>2017-10-02</td>\n",
       "      <td>2017-10-02</td>\n",
       "    </tr>\n",
       "    <tr>\n",
       "      <th>3</th>\n",
       "      <td>ON40291</td>\n",
       "      <td>128e10d95713541c87cd1a2e48201934</td>\n",
       "      <td>a20e8105f23924cd00833fd87daa0831</td>\n",
       "      <td>delivered</td>\n",
       "      <td>2017-08-15 18:29:31</td>\n",
       "      <td>2017-08-15 20:05:16</td>\n",
       "      <td>2017-08-17 15:28:33</td>\n",
       "      <td>2017-08-18 14:44:43</td>\n",
       "      <td>2017-08-28 00:00:00</td>\n",
       "      <td>1.0</td>\n",
       "      <td>...</td>\n",
       "      <td>housewares</td>\n",
       "      <td>1.0</td>\n",
       "      <td>2017</td>\n",
       "      <td>8</td>\n",
       "      <td>1</td>\n",
       "      <td>18</td>\n",
       "      <td>Tue</td>\n",
       "      <td>Aug</td>\n",
       "      <td>2017-08-15</td>\n",
       "      <td>2017-08-15</td>\n",
       "    </tr>\n",
       "    <tr>\n",
       "      <th>4</th>\n",
       "      <td>ON74313</td>\n",
       "      <td>0e7e841ddf8f8f2de2bad69267ecfbcf</td>\n",
       "      <td>26c7ac168e1433912a51b924fbd34d34</td>\n",
       "      <td>delivered</td>\n",
       "      <td>2017-08-02 18:24:47</td>\n",
       "      <td>2017-08-02 18:43:15</td>\n",
       "      <td>2017-08-04 17:35:43</td>\n",
       "      <td>2017-08-07 18:30:01</td>\n",
       "      <td>2017-08-15 00:00:00</td>\n",
       "      <td>1.0</td>\n",
       "      <td>...</td>\n",
       "      <td>housewares</td>\n",
       "      <td>0.0</td>\n",
       "      <td>2017</td>\n",
       "      <td>8</td>\n",
       "      <td>2</td>\n",
       "      <td>18</td>\n",
       "      <td>Wed</td>\n",
       "      <td>Aug</td>\n",
       "      <td>2017-08-02</td>\n",
       "      <td>2017-08-02</td>\n",
       "    </tr>\n",
       "  </tbody>\n",
       "</table>\n",
       "<p>5 rows × 55 columns</p>\n",
       "</div>"
      ],
      "text/plain": [
       "  order_id                         order_id3  \\\n",
       "0  ON34305  e481f51cbdc54678b7cc49136f2d6af7   \n",
       "1  ON34305  e481f51cbdc54678b7cc49136f2d6af7   \n",
       "2  ON34305  e481f51cbdc54678b7cc49136f2d6af7   \n",
       "3  ON40291  128e10d95713541c87cd1a2e48201934   \n",
       "4  ON74313  0e7e841ddf8f8f2de2bad69267ecfbcf   \n",
       "\n",
       "                       customer_id3 order_status order_purchase_timestamp  \\\n",
       "0  9ef432eb6251297304e76186b10a928d    delivered      2017-10-02 10:56:33   \n",
       "1  9ef432eb6251297304e76186b10a928d    delivered      2017-10-02 10:56:33   \n",
       "2  9ef432eb6251297304e76186b10a928d    delivered      2017-10-02 10:56:33   \n",
       "3  a20e8105f23924cd00833fd87daa0831    delivered      2017-08-15 18:29:31   \n",
       "4  26c7ac168e1433912a51b924fbd34d34    delivered      2017-08-02 18:24:47   \n",
       "\n",
       "     order_approved_at order_delivered_carrier_date  \\\n",
       "0  2017-10-02 11:07:15          2017-10-04 19:55:00   \n",
       "1  2017-10-02 11:07:15          2017-10-04 19:55:00   \n",
       "2  2017-10-02 11:07:15          2017-10-04 19:55:00   \n",
       "3  2017-08-15 20:05:16          2017-08-17 15:28:33   \n",
       "4  2017-08-02 18:43:15          2017-08-04 17:35:43   \n",
       "\n",
       "  order_delivered_customer_date order_estimated_delivery_date  order_item_id  \\\n",
       "0           2017-10-10 21:25:13           2017-10-18 00:00:00            1.0   \n",
       "1           2017-10-10 21:25:13           2017-10-18 00:00:00            1.0   \n",
       "2           2017-10-10 21:25:13           2017-10-18 00:00:00            1.0   \n",
       "3           2017-08-18 14:44:43           2017-08-28 00:00:00            1.0   \n",
       "4           2017-08-07 18:30:01           2017-08-15 00:00:00            1.0   \n",
       "\n",
       "   ... product_category_name_english review_response_time order_purchase_year  \\\n",
       "0  ...                    housewares                  1.0                2017   \n",
       "1  ...                    housewares                  1.0                2017   \n",
       "2  ...                    housewares                  1.0                2017   \n",
       "3  ...                    housewares                  1.0                2017   \n",
       "4  ...                    housewares                  0.0                2017   \n",
       "\n",
       "   order_purchase_month  order_purchase_dayofweek  order_purchase_hour  \\\n",
       "0                    10                         0                   10   \n",
       "1                    10                         0                   10   \n",
       "2                    10                         0                   10   \n",
       "3                     8                         1                   18   \n",
       "4                     8                         2                   18   \n",
       "\n",
       "  order_purchase_day  order_purchase_mon  order_purchase_date InvoiceDate  \n",
       "0                Mon                 Oct           2017-10-02  2017-10-02  \n",
       "1                Mon                 Oct           2017-10-02  2017-10-02  \n",
       "2                Mon                 Oct           2017-10-02  2017-10-02  \n",
       "3                Tue                 Aug           2017-08-15  2017-08-15  \n",
       "4                Wed                 Aug           2017-08-02  2017-08-02  \n",
       "\n",
       "[5 rows x 55 columns]"
      ]
     },
     "execution_count": 9,
     "metadata": {},
     "output_type": "execute_result"
    }
   ],
   "source": [
    "df.head()"
   ]
  },
  {
   "cell_type": "code",
   "execution_count": 10,
   "metadata": {},
   "outputs": [
    {
     "name": "stdout",
     "output_type": "stream",
     "text": [
      "116,581 Linhas; 55 Colunas\n",
      "0 Transações não tem customer id\n",
      "Datas das Transações de 2016-09-04 00:00:00 a 2018-09-03 00:00:00\n"
     ]
    }
   ],
   "source": [
    "# Resumo do dataset\n",
    "print('{:,} Linhas; {:,} Colunas'.format(df.shape[0], df.shape[1]))\n",
    "print('{:,} Transações não tem customer id'.format(df[df.customer_unique_id.isnull()].shape[0]))\n",
    "print('Datas das Transações de {} a {}'.format(df['InvoiceDate'].min(), df['InvoiceDate'].max()))"
   ]
  },
  {
   "cell_type": "markdown",
   "metadata": {},
   "source": [
    "## Agregação dos Dados Para Criação dos Parâmetros R, F e M"
   ]
  },
  {
   "cell_type": "code",
   "execution_count": 11,
   "metadata": {},
   "outputs": [
    {
     "data": {
      "text/plain": [
       "Timestamp('2018-09-04 00:00:00')"
      ]
     },
     "execution_count": 11,
     "metadata": {},
     "output_type": "execute_result"
    }
   ],
   "source": [
    "# Define a data mais recente\n",
    "data_mais_recente = df['InvoiceDate'].max() + timedelta(days = 1)\n",
    "data_mais_recente"
   ]
  },
  {
   "cell_type": "markdown",
   "metadata": {},
   "source": [
    "**dfvoiceDate'].max()**: Esta parte do código está acessando a coluna 'InvoiceDate' em um DataFrame chamado df e encontrando a data máxima, que é a data da fatura mais recente no conjunto de dados.\n",
    "\n",
    "**timedelta(days = 1)**: Isso cria um intervalo de tempo de um dia. A função timedelta faz parte do módulo datetime em Python e é usada para representar uma duração de tempo. Neste caso, está sendo usada para adicionar um dia à data da fatura mais recente.\n",
    "\n",
    "O resultado é a data da fatura mais recente mais um dia.\n",
    "\n",
    "O motivo para adicionar um dia à data da fatura mais recente é criar um ponto de referência para calcular a recência. Na análise RFM, a recência é calculada como o número de dias desde a última compra de um cliente. Ao definir a data_mais_recente para um dia após a compra mais recente no conjunto de dados, você pode calcular a recência simplesmente subtraindo a data da fatura da data_mais_recente para cada cliente, o que é feito abaixo:"
   ]
  },
  {
   "cell_type": "code",
   "execution_count": 12,
   "metadata": {},
   "outputs": [],
   "source": [
    "# Agrupando por CustomerID\n",
    "df_agg = df.groupby(['customer_unique_id']).agg({'InvoiceDate': \n",
    "                                                 lambda x: (data_mais_recente - x.max()).days,\n",
    "                                                         'order_id': 'count',\n",
    "                                                         'payment_value': 'sum'})"
   ]
  },
  {
   "cell_type": "code",
   "execution_count": 13,
   "metadata": {},
   "outputs": [],
   "source": [
    "# Renomeia as colunas\n",
    "df_agg.rename(columns = {'InvoiceDate': 'Recency', \n",
    "                             'order_id': 'Frequency', \n",
    "                             'payment_value': 'Monetary'}, \n",
    "                  inplace = True)"
   ]
  },
  {
   "cell_type": "code",
   "execution_count": 14,
   "metadata": {},
   "outputs": [
    {
     "data": {
      "text/html": [
       "<div>\n",
       "<style scoped>\n",
       "    .dataframe tbody tr th:only-of-type {\n",
       "        vertical-align: middle;\n",
       "    }\n",
       "\n",
       "    .dataframe tbody tr th {\n",
       "        vertical-align: top;\n",
       "    }\n",
       "\n",
       "    .dataframe thead th {\n",
       "        text-align: right;\n",
       "    }\n",
       "</style>\n",
       "<table border=\"1\" class=\"dataframe\">\n",
       "  <thead>\n",
       "    <tr style=\"text-align: right;\">\n",
       "      <th></th>\n",
       "      <th>Recency</th>\n",
       "      <th>Frequency</th>\n",
       "      <th>Monetary</th>\n",
       "    </tr>\n",
       "    <tr>\n",
       "      <th>customer_unique_id</th>\n",
       "      <th></th>\n",
       "      <th></th>\n",
       "      <th></th>\n",
       "    </tr>\n",
       "  </thead>\n",
       "  <tbody>\n",
       "    <tr>\n",
       "      <th>C00001</th>\n",
       "      <td>73</td>\n",
       "      <td>1</td>\n",
       "      <td>121.82</td>\n",
       "    </tr>\n",
       "    <tr>\n",
       "      <th>C00002</th>\n",
       "      <td>66</td>\n",
       "      <td>1</td>\n",
       "      <td>155.76</td>\n",
       "    </tr>\n",
       "    <tr>\n",
       "      <th>C00003</th>\n",
       "      <td>337</td>\n",
       "      <td>1</td>\n",
       "      <td>181.55</td>\n",
       "    </tr>\n",
       "    <tr>\n",
       "      <th>C00004</th>\n",
       "      <td>193</td>\n",
       "      <td>1</td>\n",
       "      <td>90.78</td>\n",
       "    </tr>\n",
       "    <tr>\n",
       "      <th>C00005</th>\n",
       "      <td>283</td>\n",
       "      <td>1</td>\n",
       "      <td>266.89</td>\n",
       "    </tr>\n",
       "  </tbody>\n",
       "</table>\n",
       "</div>"
      ],
      "text/plain": [
       "                    Recency  Frequency  Monetary\n",
       "customer_unique_id                              \n",
       "C00001                   73          1    121.82\n",
       "C00002                   66          1    155.76\n",
       "C00003                  337          1    181.55\n",
       "C00004                  193          1     90.78\n",
       "C00005                  283          1    266.89"
      ]
     },
     "execution_count": 14,
     "metadata": {},
     "output_type": "execute_result"
    }
   ],
   "source": [
    "# Visualiza\n",
    "df_agg.head()"
   ]
  },
  {
   "cell_type": "code",
   "execution_count": 15,
   "metadata": {},
   "outputs": [
    {
     "data": {
      "text/html": [
       "<div>\n",
       "<style scoped>\n",
       "    .dataframe tbody tr th:only-of-type {\n",
       "        vertical-align: middle;\n",
       "    }\n",
       "\n",
       "    .dataframe tbody tr th {\n",
       "        vertical-align: top;\n",
       "    }\n",
       "\n",
       "    .dataframe thead th {\n",
       "        text-align: right;\n",
       "    }\n",
       "</style>\n",
       "<table border=\"1\" class=\"dataframe\">\n",
       "  <thead>\n",
       "    <tr style=\"text-align: right;\">\n",
       "      <th></th>\n",
       "      <th>Recency</th>\n",
       "      <th>Frequency</th>\n",
       "      <th>Monetary</th>\n",
       "    </tr>\n",
       "    <tr>\n",
       "      <th>customer_unique_id</th>\n",
       "      <th></th>\n",
       "      <th></th>\n",
       "      <th></th>\n",
       "    </tr>\n",
       "  </thead>\n",
       "  <tbody>\n",
       "    <tr>\n",
       "      <th>C35914</th>\n",
       "      <td>283</td>\n",
       "      <td>1</td>\n",
       "      <td>88.72</td>\n",
       "    </tr>\n",
       "    <tr>\n",
       "      <th>C05257</th>\n",
       "      <td>29</td>\n",
       "      <td>1</td>\n",
       "      <td>129.53</td>\n",
       "    </tr>\n",
       "    <tr>\n",
       "      <th>C91086</th>\n",
       "      <td>340</td>\n",
       "      <td>1</td>\n",
       "      <td>193.98</td>\n",
       "    </tr>\n",
       "    <tr>\n",
       "      <th>C47212</th>\n",
       "      <td>340</td>\n",
       "      <td>1</td>\n",
       "      <td>77.57</td>\n",
       "    </tr>\n",
       "    <tr>\n",
       "      <th>C93505</th>\n",
       "      <td>406</td>\n",
       "      <td>1</td>\n",
       "      <td>18.59</td>\n",
       "    </tr>\n",
       "    <tr>\n",
       "      <th>C81747</th>\n",
       "      <td>350</td>\n",
       "      <td>1</td>\n",
       "      <td>186.46</td>\n",
       "    </tr>\n",
       "    <tr>\n",
       "      <th>C40267</th>\n",
       "      <td>355</td>\n",
       "      <td>1</td>\n",
       "      <td>188.74</td>\n",
       "    </tr>\n",
       "    <tr>\n",
       "      <th>C93851</th>\n",
       "      <td>123</td>\n",
       "      <td>1</td>\n",
       "      <td>356.89</td>\n",
       "    </tr>\n",
       "    <tr>\n",
       "      <th>C81659</th>\n",
       "      <td>31</td>\n",
       "      <td>1</td>\n",
       "      <td>128.78</td>\n",
       "    </tr>\n",
       "    <tr>\n",
       "      <th>C64012</th>\n",
       "      <td>186</td>\n",
       "      <td>1</td>\n",
       "      <td>105.96</td>\n",
       "    </tr>\n",
       "  </tbody>\n",
       "</table>\n",
       "</div>"
      ],
      "text/plain": [
       "                    Recency  Frequency  Monetary\n",
       "customer_unique_id                              \n",
       "C35914                  283          1     88.72\n",
       "C05257                   29          1    129.53\n",
       "C91086                  340          1    193.98\n",
       "C47212                  340          1     77.57\n",
       "C93505                  406          1     18.59\n",
       "C81747                  350          1    186.46\n",
       "C40267                  355          1    188.74\n",
       "C93851                  123          1    356.89\n",
       "C81659                   31          1    128.78\n",
       "C64012                  186          1    105.96"
      ]
     },
     "execution_count": 15,
     "metadata": {},
     "output_type": "execute_result"
    }
   ],
   "source": [
    "# Visualiza\n",
    "df_agg.sample(10)"
   ]
  },
  {
   "cell_type": "code",
   "execution_count": 16,
   "metadata": {},
   "outputs": [
    {
     "data": {
      "text/plain": [
       "Recency      False\n",
       "Frequency    False\n",
       "Monetary     False\n",
       "dtype: bool"
      ]
     },
     "execution_count": 16,
     "metadata": {},
     "output_type": "execute_result"
    }
   ],
   "source": [
    "# Verifica se gerou valores ausentes\n",
    "df_agg.isna().any()"
   ]
  },
  {
   "cell_type": "code",
   "execution_count": 17,
   "metadata": {},
   "outputs": [
    {
     "data": {
      "text/plain": [
       "count    94087.000000\n",
       "mean       243.803575\n",
       "std        153.156983\n",
       "min          1.000000\n",
       "25%        120.000000\n",
       "50%        224.000000\n",
       "75%        353.000000\n",
       "max        730.000000\n",
       "Name: Recency, dtype: float64"
      ]
     },
     "execution_count": 17,
     "metadata": {},
     "output_type": "execute_result"
    }
   ],
   "source": [
    "# Resumo estatístico\n",
    "df_agg['Recency'].describe()"
   ]
  },
  {
   "cell_type": "code",
   "execution_count": 18,
   "metadata": {},
   "outputs": [
    {
     "data": {
      "text/plain": [
       "Frequency\n",
       "1     79915\n",
       "2     10323\n",
       "3      2003\n",
       "4       956\n",
       "5       337\n",
       "6       300\n",
       "7        73\n",
       "8        45\n",
       "12       25\n",
       "9        25\n",
       "10       25\n",
       "11       18\n",
       "14        8\n",
       "15        7\n",
       "24        7\n",
       "20        4\n",
       "13        4\n",
       "21        3\n",
       "18        1\n",
       "16        1\n",
       "29        1\n",
       "19        1\n",
       "22        1\n",
       "75        1\n",
       "26        1\n",
       "38        1\n",
       "35        1\n",
       "Name: count, dtype: int64"
      ]
     },
     "execution_count": 18,
     "metadata": {},
     "output_type": "execute_result"
    }
   ],
   "source": [
    "# Vamos vericar a \"frequência da frequência de compra\"\n",
    "df_agg['Frequency'].value_counts()"
   ]
  },
  {
   "cell_type": "code",
   "execution_count": 19,
   "metadata": {},
   "outputs": [
    {
     "data": {
      "text/plain": [
       "count     94087.000000\n",
       "mean        214.249054\n",
       "std         647.368039\n",
       "min           9.590000\n",
       "25%          64.000000\n",
       "50%         113.150000\n",
       "75%         203.770000\n",
       "max      109312.640000\n",
       "Name: Monetary, dtype: float64"
      ]
     },
     "execution_count": 19,
     "metadata": {},
     "output_type": "execute_result"
    }
   ],
   "source": [
    "# Resumo estatístico\n",
    "df_agg['Monetary'].describe()"
   ]
  },
  {
   "cell_type": "markdown",
   "metadata": {},
   "source": [
    "## Definição dos Recursos RFM Através de Análise Estatística"
   ]
  },
  {
   "cell_type": "markdown",
   "metadata": {},
   "source": [
    "Temos registros de clientes agrupados por tempo para retorno de suas compras, a frequência por sua quantidade e o valor monetário das compras. Agora podemos usar o método .qcut() para atribuir o percentil relativo aos recursos RFM. Mas, por que faremos isso? "
   ]
  },
  {
   "cell_type": "code",
   "execution_count": 20,
   "metadata": {},
   "outputs": [
    {
     "data": {
      "text/html": [
       "<div>\n",
       "<style scoped>\n",
       "    .dataframe tbody tr th:only-of-type {\n",
       "        vertical-align: middle;\n",
       "    }\n",
       "\n",
       "    .dataframe tbody tr th {\n",
       "        vertical-align: top;\n",
       "    }\n",
       "\n",
       "    .dataframe thead th {\n",
       "        text-align: right;\n",
       "    }\n",
       "</style>\n",
       "<table border=\"1\" class=\"dataframe\">\n",
       "  <thead>\n",
       "    <tr style=\"text-align: right;\">\n",
       "      <th></th>\n",
       "      <th>Recency</th>\n",
       "      <th>Frequency</th>\n",
       "      <th>Monetary</th>\n",
       "    </tr>\n",
       "    <tr>\n",
       "      <th>customer_unique_id</th>\n",
       "      <th></th>\n",
       "      <th></th>\n",
       "      <th></th>\n",
       "    </tr>\n",
       "  </thead>\n",
       "  <tbody>\n",
       "    <tr>\n",
       "      <th>C00001</th>\n",
       "      <td>73</td>\n",
       "      <td>1</td>\n",
       "      <td>121.82</td>\n",
       "    </tr>\n",
       "    <tr>\n",
       "      <th>C00002</th>\n",
       "      <td>66</td>\n",
       "      <td>1</td>\n",
       "      <td>155.76</td>\n",
       "    </tr>\n",
       "    <tr>\n",
       "      <th>C00003</th>\n",
       "      <td>337</td>\n",
       "      <td>1</td>\n",
       "      <td>181.55</td>\n",
       "    </tr>\n",
       "    <tr>\n",
       "      <th>C00004</th>\n",
       "      <td>193</td>\n",
       "      <td>1</td>\n",
       "      <td>90.78</td>\n",
       "    </tr>\n",
       "    <tr>\n",
       "      <th>C00005</th>\n",
       "      <td>283</td>\n",
       "      <td>1</td>\n",
       "      <td>266.89</td>\n",
       "    </tr>\n",
       "  </tbody>\n",
       "</table>\n",
       "</div>"
      ],
      "text/plain": [
       "                    Recency  Frequency  Monetary\n",
       "customer_unique_id                              \n",
       "C00001                   73          1    121.82\n",
       "C00002                   66          1    155.76\n",
       "C00003                  337          1    181.55\n",
       "C00004                  193          1     90.78\n",
       "C00005                  283          1    266.89"
      ]
     },
     "execution_count": 20,
     "metadata": {},
     "output_type": "execute_result"
    }
   ],
   "source": [
    "# Amostra\n",
    "df_agg.head()"
   ]
  },
  {
   "cell_type": "markdown",
   "metadata": {},
   "source": [
    "Considere os quartis dos valores monetários:\n",
    "    \n",
    "Estes quartis representam os valores que dividem a distribuição dos dados em quatro partes iguais. Eles são uma medida de dispersão que dá uma ideia da distribuição dos dados. Aqui está como você pode interpretá-los:\n",
    "\n",
    "**25% (Primeiro Quartil)**: 25% dos dados são menores ou iguais a 64.000. Isso significa que um quarto dos valores na distribuição é menor ou igual a 64.000.\n",
    "\n",
    "**50% (Segundo Quartil ou Mediana)**: 50% dos dados são menores ou iguais a 113.150. A mediana é o valor do meio da distribuição, de modo que metade dos valores é menor ou igual a 113.150 e a outra metade é maior.\n",
    "\n",
    "**75% (Terceiro Quartil)**: 75% dos dados são menores ou iguais a 203.770. Isso indica que três quartos dos valores na distribuição são menores ou iguais a 203.770.\n",
    "\n",
    "Os quartis são úteis para entender a distribuição dos dados, identificar valores atípicos e comparar diferentes conjuntos de dados. \n",
    "\n",
    "Usaremos os quartis para dividir os clientes estatisticamente nos parâmetros R, F e M."
   ]
  },
  {
   "cell_type": "code",
   "execution_count": 21,
   "metadata": {},
   "outputs": [],
   "source": [
    "# Criando labels para Recency \n",
    "r_labels = range(4, 0, -1)"
   ]
  },
  {
   "cell_type": "markdown",
   "metadata": {},
   "source": [
    "A função range em Python gera uma sequência de números. O uso de range(4, 0, -1) cria uma sequência que começa em 4, termina antes de 0 e decrementa em 1 a cada passo. Portanto, a sequência gerada será: 4,3,2,1\n",
    "\n",
    "Note que o número 0 não está incluído na sequência, pois o ponto final especificado em range é exclusivo."
   ]
  },
  {
   "cell_type": "code",
   "execution_count": 22,
   "metadata": {},
   "outputs": [],
   "source": [
    "# Atribuindo esses rótulos a 4 grupos de percentis\n",
    "r_groups = pd.qcut(df_agg['Recency'], q = 4, labels = r_labels)"
   ]
  },
  {
   "cell_type": "markdown",
   "metadata": {},
   "source": [
    "**q = 4**: Indica que a série de dados será dividida em 4 quantis, ou seja, em quartis. Isso significa que a série será dividida em quatro partes iguais com base nos valores de recência.\n",
    "\n",
    "Os quartis serão rotulados com os rótulos fornecidos na lista r_labels. Por exemplo, se r_labels = [4, 3, 2, 1], o quartil mais baixo (os 25% dos dados com a menor recência) será rotulado como '4', o próximo quartil como '3', e assim por diante."
   ]
  },
  {
   "cell_type": "code",
   "execution_count": 23,
   "metadata": {},
   "outputs": [
    {
     "data": {
      "text/plain": [
       "Recency\n",
       "4    23766\n",
       "2    23563\n",
       "1    23440\n",
       "3    23318\n",
       "Name: count, dtype: int64"
      ]
     },
     "execution_count": 23,
     "metadata": {},
     "output_type": "execute_result"
    }
   ],
   "source": [
    "r_groups.value_counts()"
   ]
  },
  {
   "cell_type": "code",
   "execution_count": 24,
   "metadata": {},
   "outputs": [],
   "source": [
    "# Cria a coluna R no dataframe\n",
    "df_agg = df_agg.assign(R = r_groups.values)"
   ]
  },
  {
   "cell_type": "code",
   "execution_count": 25,
   "metadata": {},
   "outputs": [
    {
     "data": {
      "text/html": [
       "<div>\n",
       "<style scoped>\n",
       "    .dataframe tbody tr th:only-of-type {\n",
       "        vertical-align: middle;\n",
       "    }\n",
       "\n",
       "    .dataframe tbody tr th {\n",
       "        vertical-align: top;\n",
       "    }\n",
       "\n",
       "    .dataframe thead th {\n",
       "        text-align: right;\n",
       "    }\n",
       "</style>\n",
       "<table border=\"1\" class=\"dataframe\">\n",
       "  <thead>\n",
       "    <tr style=\"text-align: right;\">\n",
       "      <th></th>\n",
       "      <th>Recency</th>\n",
       "      <th>Frequency</th>\n",
       "      <th>Monetary</th>\n",
       "      <th>R</th>\n",
       "    </tr>\n",
       "    <tr>\n",
       "      <th>customer_unique_id</th>\n",
       "      <th></th>\n",
       "      <th></th>\n",
       "      <th></th>\n",
       "      <th></th>\n",
       "    </tr>\n",
       "  </thead>\n",
       "  <tbody>\n",
       "    <tr>\n",
       "      <th>C00001</th>\n",
       "      <td>73</td>\n",
       "      <td>1</td>\n",
       "      <td>121.82</td>\n",
       "      <td>4</td>\n",
       "    </tr>\n",
       "    <tr>\n",
       "      <th>C00002</th>\n",
       "      <td>66</td>\n",
       "      <td>1</td>\n",
       "      <td>155.76</td>\n",
       "      <td>4</td>\n",
       "    </tr>\n",
       "    <tr>\n",
       "      <th>C00003</th>\n",
       "      <td>337</td>\n",
       "      <td>1</td>\n",
       "      <td>181.55</td>\n",
       "      <td>2</td>\n",
       "    </tr>\n",
       "    <tr>\n",
       "      <th>C00004</th>\n",
       "      <td>193</td>\n",
       "      <td>1</td>\n",
       "      <td>90.78</td>\n",
       "      <td>3</td>\n",
       "    </tr>\n",
       "    <tr>\n",
       "      <th>C00005</th>\n",
       "      <td>283</td>\n",
       "      <td>1</td>\n",
       "      <td>266.89</td>\n",
       "      <td>2</td>\n",
       "    </tr>\n",
       "  </tbody>\n",
       "</table>\n",
       "</div>"
      ],
      "text/plain": [
       "                    Recency  Frequency  Monetary  R\n",
       "customer_unique_id                                 \n",
       "C00001                   73          1    121.82  4\n",
       "C00002                   66          1    155.76  4\n",
       "C00003                  337          1    181.55  2\n",
       "C00004                  193          1     90.78  3\n",
       "C00005                  283          1    266.89  2"
      ]
     },
     "execution_count": 25,
     "metadata": {},
     "output_type": "execute_result"
    }
   ],
   "source": [
    "df_agg.head()"
   ]
  },
  {
   "cell_type": "code",
   "execution_count": 26,
   "metadata": {},
   "outputs": [
    {
     "data": {
      "text/html": [
       "<div>\n",
       "<style scoped>\n",
       "    .dataframe tbody tr th:only-of-type {\n",
       "        vertical-align: middle;\n",
       "    }\n",
       "\n",
       "    .dataframe tbody tr th {\n",
       "        vertical-align: top;\n",
       "    }\n",
       "\n",
       "    .dataframe thead th {\n",
       "        text-align: right;\n",
       "    }\n",
       "</style>\n",
       "<table border=\"1\" class=\"dataframe\">\n",
       "  <thead>\n",
       "    <tr style=\"text-align: right;\">\n",
       "      <th></th>\n",
       "      <th>Recency</th>\n",
       "      <th>Frequency</th>\n",
       "      <th>Monetary</th>\n",
       "      <th>R</th>\n",
       "    </tr>\n",
       "    <tr>\n",
       "      <th>customer_unique_id</th>\n",
       "      <th></th>\n",
       "      <th></th>\n",
       "      <th></th>\n",
       "      <th></th>\n",
       "    </tr>\n",
       "  </thead>\n",
       "  <tbody>\n",
       "    <tr>\n",
       "      <th>C67103</th>\n",
       "      <td>77</td>\n",
       "      <td>2</td>\n",
       "      <td>33.22</td>\n",
       "      <td>4</td>\n",
       "    </tr>\n",
       "    <tr>\n",
       "      <th>C11724</th>\n",
       "      <td>39</td>\n",
       "      <td>2</td>\n",
       "      <td>479.00</td>\n",
       "      <td>4</td>\n",
       "    </tr>\n",
       "    <tr>\n",
       "      <th>C88793</th>\n",
       "      <td>285</td>\n",
       "      <td>1</td>\n",
       "      <td>90.66</td>\n",
       "      <td>2</td>\n",
       "    </tr>\n",
       "    <tr>\n",
       "      <th>C83638</th>\n",
       "      <td>85</td>\n",
       "      <td>1</td>\n",
       "      <td>73.59</td>\n",
       "      <td>4</td>\n",
       "    </tr>\n",
       "    <tr>\n",
       "      <th>C19421</th>\n",
       "      <td>341</td>\n",
       "      <td>1</td>\n",
       "      <td>172.96</td>\n",
       "      <td>2</td>\n",
       "    </tr>\n",
       "    <tr>\n",
       "      <th>C56962</th>\n",
       "      <td>32</td>\n",
       "      <td>1</td>\n",
       "      <td>63.65</td>\n",
       "      <td>4</td>\n",
       "    </tr>\n",
       "    <tr>\n",
       "      <th>C82595</th>\n",
       "      <td>51</td>\n",
       "      <td>1</td>\n",
       "      <td>178.24</td>\n",
       "      <td>4</td>\n",
       "    </tr>\n",
       "    <tr>\n",
       "      <th>C00549</th>\n",
       "      <td>390</td>\n",
       "      <td>1</td>\n",
       "      <td>31.00</td>\n",
       "      <td>1</td>\n",
       "    </tr>\n",
       "    <tr>\n",
       "      <th>C26326</th>\n",
       "      <td>83</td>\n",
       "      <td>1</td>\n",
       "      <td>124.14</td>\n",
       "      <td>4</td>\n",
       "    </tr>\n",
       "    <tr>\n",
       "      <th>C23048</th>\n",
       "      <td>245</td>\n",
       "      <td>2</td>\n",
       "      <td>492.58</td>\n",
       "      <td>2</td>\n",
       "    </tr>\n",
       "  </tbody>\n",
       "</table>\n",
       "</div>"
      ],
      "text/plain": [
       "                    Recency  Frequency  Monetary  R\n",
       "customer_unique_id                                 \n",
       "C67103                   77          2     33.22  4\n",
       "C11724                   39          2    479.00  4\n",
       "C88793                  285          1     90.66  2\n",
       "C83638                   85          1     73.59  4\n",
       "C19421                  341          1    172.96  2\n",
       "C56962                   32          1     63.65  4\n",
       "C82595                   51          1    178.24  4\n",
       "C00549                  390          1     31.00  1\n",
       "C26326                   83          1    124.14  4\n",
       "C23048                  245          2    492.58  2"
      ]
     },
     "execution_count": 26,
     "metadata": {},
     "output_type": "execute_result"
    }
   ],
   "source": [
    "# Amostra\n",
    "df_agg.sample(10)"
   ]
  },
  {
   "cell_type": "markdown",
   "metadata": {},
   "source": [
    "> Para a frequência vamos trabalhar somente com 2 grupos: Grupo dos clientes que compraram apenas uma vez e grupo dos clientes que compraram mais de uma vez."
   ]
  },
  {
   "cell_type": "code",
   "execution_count": 27,
   "metadata": {},
   "outputs": [
    {
     "data": {
      "text/plain": [
       "count    94087.000000\n",
       "mean         1.239077\n",
       "std          0.850594\n",
       "min          1.000000\n",
       "25%          1.000000\n",
       "50%          1.000000\n",
       "75%          1.000000\n",
       "max         75.000000\n",
       "Name: Frequency, dtype: float64"
      ]
     },
     "execution_count": 27,
     "metadata": {},
     "output_type": "execute_result"
    }
   ],
   "source": [
    "# Resumo estatístico\n",
    "df_agg['Frequency'].describe()"
   ]
  },
  {
   "cell_type": "code",
   "execution_count": 28,
   "metadata": {},
   "outputs": [],
   "source": [
    "# Criando labels para Frequency\n",
    "f_labels = range(1, 3)"
   ]
  },
  {
   "cell_type": "code",
   "execution_count": 29,
   "metadata": {},
   "outputs": [
    {
     "data": {
      "text/plain": [
       "range(1, 3)"
      ]
     },
     "execution_count": 29,
     "metadata": {},
     "output_type": "execute_result"
    }
   ],
   "source": [
    "f_labels"
   ]
  },
  {
   "cell_type": "code",
   "execution_count": 30,
   "metadata": {},
   "outputs": [],
   "source": [
    "# Função\n",
    "def pct_rank_qcut(series, n):\n",
    "    \n",
    "    # Cria uma série de valores limite para os quantis, dividindo o intervalo [0, 1] em n partes iguais\n",
    "    edges = pd.Series([float(i) / n for i in range(n + 1)])\n",
    "    \n",
    "    # Define uma função que encontra o índice do primeiro valor na série de limites que é maior ou igual a x\n",
    "    f = lambda x: (edges >= x).values.argmax()\n",
    "    \n",
    "    # Classifica a série de entrada como uma porcentagem (de 0 a 1)\n",
    "    # e então aplica a função f para mapear cada valor para seu respectivo quantil\n",
    "    return series.rank(pct = 1).apply(f)"
   ]
  },
  {
   "cell_type": "code",
   "execution_count": 31,
   "metadata": {},
   "outputs": [],
   "source": [
    "# Atribuindo esses rótulos a 2 grupos de percentis \n",
    "f_groups = pct_rank_qcut(df_agg['Frequency'], 2)"
   ]
  },
  {
   "cell_type": "code",
   "execution_count": 32,
   "metadata": {},
   "outputs": [
    {
     "data": {
      "text/plain": [
       "Frequency\n",
       "1    79915\n",
       "2    14172\n",
       "Name: count, dtype: int64"
      ]
     },
     "execution_count": 32,
     "metadata": {},
     "output_type": "execute_result"
    }
   ],
   "source": [
    "f_groups.value_counts()"
   ]
  },
  {
   "cell_type": "code",
   "execution_count": 33,
   "metadata": {},
   "outputs": [],
   "source": [
    "# Cria a coluna F no dataframe\n",
    "df_agg = df_agg.assign(F = f_groups.values)"
   ]
  },
  {
   "cell_type": "code",
   "execution_count": 34,
   "metadata": {},
   "outputs": [
    {
     "data": {
      "text/html": [
       "<div>\n",
       "<style scoped>\n",
       "    .dataframe tbody tr th:only-of-type {\n",
       "        vertical-align: middle;\n",
       "    }\n",
       "\n",
       "    .dataframe tbody tr th {\n",
       "        vertical-align: top;\n",
       "    }\n",
       "\n",
       "    .dataframe thead th {\n",
       "        text-align: right;\n",
       "    }\n",
       "</style>\n",
       "<table border=\"1\" class=\"dataframe\">\n",
       "  <thead>\n",
       "    <tr style=\"text-align: right;\">\n",
       "      <th></th>\n",
       "      <th>Recency</th>\n",
       "      <th>Frequency</th>\n",
       "      <th>Monetary</th>\n",
       "      <th>R</th>\n",
       "      <th>F</th>\n",
       "    </tr>\n",
       "    <tr>\n",
       "      <th>customer_unique_id</th>\n",
       "      <th></th>\n",
       "      <th></th>\n",
       "      <th></th>\n",
       "      <th></th>\n",
       "      <th></th>\n",
       "    </tr>\n",
       "  </thead>\n",
       "  <tbody>\n",
       "    <tr>\n",
       "      <th>C49779</th>\n",
       "      <td>193</td>\n",
       "      <td>1</td>\n",
       "      <td>246.37</td>\n",
       "      <td>3</td>\n",
       "      <td>1</td>\n",
       "    </tr>\n",
       "    <tr>\n",
       "      <th>C69411</th>\n",
       "      <td>179</td>\n",
       "      <td>3</td>\n",
       "      <td>269.64</td>\n",
       "      <td>3</td>\n",
       "      <td>2</td>\n",
       "    </tr>\n",
       "    <tr>\n",
       "      <th>C95606</th>\n",
       "      <td>146</td>\n",
       "      <td>1</td>\n",
       "      <td>118.66</td>\n",
       "      <td>3</td>\n",
       "      <td>1</td>\n",
       "    </tr>\n",
       "    <tr>\n",
       "      <th>C50436</th>\n",
       "      <td>536</td>\n",
       "      <td>1</td>\n",
       "      <td>74.08</td>\n",
       "      <td>1</td>\n",
       "      <td>1</td>\n",
       "    </tr>\n",
       "    <tr>\n",
       "      <th>C12520</th>\n",
       "      <td>276</td>\n",
       "      <td>1</td>\n",
       "      <td>100.25</td>\n",
       "      <td>2</td>\n",
       "      <td>1</td>\n",
       "    </tr>\n",
       "    <tr>\n",
       "      <th>C53929</th>\n",
       "      <td>393</td>\n",
       "      <td>2</td>\n",
       "      <td>293.36</td>\n",
       "      <td>1</td>\n",
       "      <td>2</td>\n",
       "    </tr>\n",
       "    <tr>\n",
       "      <th>C23698</th>\n",
       "      <td>81</td>\n",
       "      <td>1</td>\n",
       "      <td>52.93</td>\n",
       "      <td>4</td>\n",
       "      <td>1</td>\n",
       "    </tr>\n",
       "    <tr>\n",
       "      <th>C47993</th>\n",
       "      <td>41</td>\n",
       "      <td>1</td>\n",
       "      <td>37.36</td>\n",
       "      <td>4</td>\n",
       "      <td>1</td>\n",
       "    </tr>\n",
       "    <tr>\n",
       "      <th>C21110</th>\n",
       "      <td>134</td>\n",
       "      <td>1</td>\n",
       "      <td>82.05</td>\n",
       "      <td>3</td>\n",
       "      <td>1</td>\n",
       "    </tr>\n",
       "    <tr>\n",
       "      <th>C78845</th>\n",
       "      <td>28</td>\n",
       "      <td>1</td>\n",
       "      <td>40.28</td>\n",
       "      <td>4</td>\n",
       "      <td>1</td>\n",
       "    </tr>\n",
       "  </tbody>\n",
       "</table>\n",
       "</div>"
      ],
      "text/plain": [
       "                    Recency  Frequency  Monetary  R  F\n",
       "customer_unique_id                                    \n",
       "C49779                  193          1    246.37  3  1\n",
       "C69411                  179          3    269.64  3  2\n",
       "C95606                  146          1    118.66  3  1\n",
       "C50436                  536          1     74.08  1  1\n",
       "C12520                  276          1    100.25  2  1\n",
       "C53929                  393          2    293.36  1  2\n",
       "C23698                   81          1     52.93  4  1\n",
       "C47993                   41          1     37.36  4  1\n",
       "C21110                  134          1     82.05  3  1\n",
       "C78845                   28          1     40.28  4  1"
      ]
     },
     "execution_count": 34,
     "metadata": {},
     "output_type": "execute_result"
    }
   ],
   "source": [
    "# Amostra\n",
    "df_agg.sample(10)"
   ]
  },
  {
   "cell_type": "code",
   "execution_count": 35,
   "metadata": {},
   "outputs": [],
   "source": [
    "# Criando labels para Monetary\n",
    "m_labels = range(1, 5)"
   ]
  },
  {
   "cell_type": "code",
   "execution_count": 36,
   "metadata": {},
   "outputs": [],
   "source": [
    "# Atribuindo esses rótulos a 4 grupos de percentis\n",
    "m_groups = pd.qcut(df_agg['Monetary'], q = 4, labels = m_labels)"
   ]
  },
  {
   "cell_type": "code",
   "execution_count": 37,
   "metadata": {},
   "outputs": [
    {
     "data": {
      "text/plain": [
       "Monetary\n",
       "1    23569\n",
       "4    23521\n",
       "3    23503\n",
       "2    23494\n",
       "Name: count, dtype: int64"
      ]
     },
     "execution_count": 37,
     "metadata": {},
     "output_type": "execute_result"
    }
   ],
   "source": [
    "m_groups.value_counts()"
   ]
  },
  {
   "cell_type": "code",
   "execution_count": 38,
   "metadata": {},
   "outputs": [],
   "source": [
    "# Cria a nova coluna M\n",
    "df_agg = df_agg.assign(M = m_groups.values)"
   ]
  },
  {
   "cell_type": "code",
   "execution_count": 39,
   "metadata": {},
   "outputs": [
    {
     "data": {
      "text/html": [
       "<div>\n",
       "<style scoped>\n",
       "    .dataframe tbody tr th:only-of-type {\n",
       "        vertical-align: middle;\n",
       "    }\n",
       "\n",
       "    .dataframe tbody tr th {\n",
       "        vertical-align: top;\n",
       "    }\n",
       "\n",
       "    .dataframe thead th {\n",
       "        text-align: right;\n",
       "    }\n",
       "</style>\n",
       "<table border=\"1\" class=\"dataframe\">\n",
       "  <thead>\n",
       "    <tr style=\"text-align: right;\">\n",
       "      <th></th>\n",
       "      <th>Recency</th>\n",
       "      <th>Frequency</th>\n",
       "      <th>Monetary</th>\n",
       "      <th>R</th>\n",
       "      <th>F</th>\n",
       "      <th>M</th>\n",
       "    </tr>\n",
       "    <tr>\n",
       "      <th>customer_unique_id</th>\n",
       "      <th></th>\n",
       "      <th></th>\n",
       "      <th></th>\n",
       "      <th></th>\n",
       "      <th></th>\n",
       "      <th></th>\n",
       "    </tr>\n",
       "  </thead>\n",
       "  <tbody>\n",
       "    <tr>\n",
       "      <th>C00001</th>\n",
       "      <td>73</td>\n",
       "      <td>1</td>\n",
       "      <td>121.82</td>\n",
       "      <td>4</td>\n",
       "      <td>1</td>\n",
       "      <td>3</td>\n",
       "    </tr>\n",
       "    <tr>\n",
       "      <th>C00002</th>\n",
       "      <td>66</td>\n",
       "      <td>1</td>\n",
       "      <td>155.76</td>\n",
       "      <td>4</td>\n",
       "      <td>1</td>\n",
       "      <td>3</td>\n",
       "    </tr>\n",
       "    <tr>\n",
       "      <th>C00003</th>\n",
       "      <td>337</td>\n",
       "      <td>1</td>\n",
       "      <td>181.55</td>\n",
       "      <td>2</td>\n",
       "      <td>1</td>\n",
       "      <td>3</td>\n",
       "    </tr>\n",
       "    <tr>\n",
       "      <th>C00004</th>\n",
       "      <td>193</td>\n",
       "      <td>1</td>\n",
       "      <td>90.78</td>\n",
       "      <td>3</td>\n",
       "      <td>1</td>\n",
       "      <td>2</td>\n",
       "    </tr>\n",
       "    <tr>\n",
       "      <th>C00005</th>\n",
       "      <td>283</td>\n",
       "      <td>1</td>\n",
       "      <td>266.89</td>\n",
       "      <td>2</td>\n",
       "      <td>1</td>\n",
       "      <td>4</td>\n",
       "    </tr>\n",
       "  </tbody>\n",
       "</table>\n",
       "</div>"
      ],
      "text/plain": [
       "                    Recency  Frequency  Monetary  R  F  M\n",
       "customer_unique_id                                       \n",
       "C00001                   73          1    121.82  4  1  3\n",
       "C00002                   66          1    155.76  4  1  3\n",
       "C00003                  337          1    181.55  2  1  3\n",
       "C00004                  193          1     90.78  3  1  2\n",
       "C00005                  283          1    266.89  2  1  4"
      ]
     },
     "execution_count": 39,
     "metadata": {},
     "output_type": "execute_result"
    }
   ],
   "source": [
    "df_agg.head()"
   ]
  },
  {
   "cell_type": "code",
   "execution_count": 40,
   "metadata": {},
   "outputs": [
    {
     "name": "stdout",
     "output_type": "stream",
     "text": [
      "<class 'pandas.core.frame.DataFrame'>\n",
      "Index: 94087 entries, C00001 to C96999\n",
      "Data columns (total 6 columns):\n",
      " #   Column     Non-Null Count  Dtype   \n",
      "---  ------     --------------  -----   \n",
      " 0   Recency    94087 non-null  int64   \n",
      " 1   Frequency  94087 non-null  int64   \n",
      " 2   Monetary   94087 non-null  float64 \n",
      " 3   R          94087 non-null  category\n",
      " 4   F          94087 non-null  int64   \n",
      " 5   M          94087 non-null  category\n",
      "dtypes: category(2), float64(1), int64(3)\n",
      "memory usage: 3.8+ MB\n"
     ]
    }
   ],
   "source": [
    "# Observe os tipos de dados\n",
    "df_agg.info()"
   ]
  },
  {
   "cell_type": "markdown",
   "metadata": {},
   "source": [
    "## Processamento dos Dados e Label Encoding\n",
    "\n",
    "R e F foram criados como tipo category. Vamos ajustar isso."
   ]
  },
  {
   "cell_type": "code",
   "execution_count": 41,
   "metadata": {},
   "outputs": [],
   "source": [
    "# Cria o codificador\n",
    "d_le = LabelEncoder()"
   ]
  },
  {
   "cell_type": "code",
   "execution_count": 42,
   "metadata": {},
   "outputs": [],
   "source": [
    "# Transformação de categoria para representação numérica\n",
    "df_agg['R'] = d_le.fit_transform(df_agg['R']) + 1\n",
    "df_agg['M'] = d_le.fit_transform(df_agg['M']) + 1"
   ]
  },
  {
   "cell_type": "code",
   "execution_count": 43,
   "metadata": {},
   "outputs": [
    {
     "name": "stdout",
     "output_type": "stream",
     "text": [
      "<class 'pandas.core.frame.DataFrame'>\n",
      "Index: 94087 entries, C00001 to C96999\n",
      "Data columns (total 6 columns):\n",
      " #   Column     Non-Null Count  Dtype  \n",
      "---  ------     --------------  -----  \n",
      " 0   Recency    94087 non-null  int64  \n",
      " 1   Frequency  94087 non-null  int64  \n",
      " 2   Monetary   94087 non-null  float64\n",
      " 3   R          94087 non-null  int64  \n",
      " 4   F          94087 non-null  int64  \n",
      " 5   M          94087 non-null  int64  \n",
      "dtypes: float64(1), int64(5)\n",
      "memory usage: 7.0+ MB\n"
     ]
    }
   ],
   "source": [
    "# Info\n",
    "df_agg.info()"
   ]
  },
  {
   "cell_type": "code",
   "execution_count": 44,
   "metadata": {},
   "outputs": [
    {
     "data": {
      "text/html": [
       "<div>\n",
       "<style scoped>\n",
       "    .dataframe tbody tr th:only-of-type {\n",
       "        vertical-align: middle;\n",
       "    }\n",
       "\n",
       "    .dataframe tbody tr th {\n",
       "        vertical-align: top;\n",
       "    }\n",
       "\n",
       "    .dataframe thead th {\n",
       "        text-align: right;\n",
       "    }\n",
       "</style>\n",
       "<table border=\"1\" class=\"dataframe\">\n",
       "  <thead>\n",
       "    <tr style=\"text-align: right;\">\n",
       "      <th></th>\n",
       "      <th>Recency</th>\n",
       "      <th>Frequency</th>\n",
       "      <th>Monetary</th>\n",
       "      <th>R</th>\n",
       "      <th>F</th>\n",
       "      <th>M</th>\n",
       "    </tr>\n",
       "    <tr>\n",
       "      <th>customer_unique_id</th>\n",
       "      <th></th>\n",
       "      <th></th>\n",
       "      <th></th>\n",
       "      <th></th>\n",
       "      <th></th>\n",
       "      <th></th>\n",
       "    </tr>\n",
       "  </thead>\n",
       "  <tbody>\n",
       "    <tr>\n",
       "      <th>C00001</th>\n",
       "      <td>73</td>\n",
       "      <td>1</td>\n",
       "      <td>121.82</td>\n",
       "      <td>4</td>\n",
       "      <td>1</td>\n",
       "      <td>3</td>\n",
       "    </tr>\n",
       "    <tr>\n",
       "      <th>C00002</th>\n",
       "      <td>66</td>\n",
       "      <td>1</td>\n",
       "      <td>155.76</td>\n",
       "      <td>4</td>\n",
       "      <td>1</td>\n",
       "      <td>3</td>\n",
       "    </tr>\n",
       "    <tr>\n",
       "      <th>C00003</th>\n",
       "      <td>337</td>\n",
       "      <td>1</td>\n",
       "      <td>181.55</td>\n",
       "      <td>2</td>\n",
       "      <td>1</td>\n",
       "      <td>3</td>\n",
       "    </tr>\n",
       "    <tr>\n",
       "      <th>C00004</th>\n",
       "      <td>193</td>\n",
       "      <td>1</td>\n",
       "      <td>90.78</td>\n",
       "      <td>3</td>\n",
       "      <td>1</td>\n",
       "      <td>2</td>\n",
       "    </tr>\n",
       "    <tr>\n",
       "      <th>C00005</th>\n",
       "      <td>283</td>\n",
       "      <td>1</td>\n",
       "      <td>266.89</td>\n",
       "      <td>2</td>\n",
       "      <td>1</td>\n",
       "      <td>4</td>\n",
       "    </tr>\n",
       "  </tbody>\n",
       "</table>\n",
       "</div>"
      ],
      "text/plain": [
       "                    Recency  Frequency  Monetary  R  F  M\n",
       "customer_unique_id                                       \n",
       "C00001                   73          1    121.82  4  1  3\n",
       "C00002                   66          1    155.76  4  1  3\n",
       "C00003                  337          1    181.55  2  1  3\n",
       "C00004                  193          1     90.78  3  1  2\n",
       "C00005                  283          1    266.89  2  1  4"
      ]
     },
     "execution_count": 44,
     "metadata": {},
     "output_type": "execute_result"
    }
   ],
   "source": [
    "# Amostra\n",
    "df_agg.head()"
   ]
  },
  {
   "cell_type": "markdown",
   "metadata": {},
   "source": [
    "Com essas 3 pontuações, R, F e M, podemos criar os scores e segmentos RFM."
   ]
  },
  {
   "cell_type": "markdown",
   "metadata": {},
   "source": [
    "## Criação dos Segmentos RFM"
   ]
  },
  {
   "cell_type": "code",
   "execution_count": 45,
   "metadata": {},
   "outputs": [],
   "source": [
    "# Cria o RFM Score\n",
    "df_agg['Score_RFM'] = df_agg[['R','F','M']].sum(axis = 1)"
   ]
  },
  {
   "cell_type": "code",
   "execution_count": 46,
   "metadata": {},
   "outputs": [
    {
     "data": {
      "text/html": [
       "<div>\n",
       "<style scoped>\n",
       "    .dataframe tbody tr th:only-of-type {\n",
       "        vertical-align: middle;\n",
       "    }\n",
       "\n",
       "    .dataframe tbody tr th {\n",
       "        vertical-align: top;\n",
       "    }\n",
       "\n",
       "    .dataframe thead th {\n",
       "        text-align: right;\n",
       "    }\n",
       "</style>\n",
       "<table border=\"1\" class=\"dataframe\">\n",
       "  <thead>\n",
       "    <tr style=\"text-align: right;\">\n",
       "      <th></th>\n",
       "      <th>Recency</th>\n",
       "      <th>Frequency</th>\n",
       "      <th>Monetary</th>\n",
       "      <th>R</th>\n",
       "      <th>F</th>\n",
       "      <th>M</th>\n",
       "      <th>Score_RFM</th>\n",
       "    </tr>\n",
       "    <tr>\n",
       "      <th>customer_unique_id</th>\n",
       "      <th></th>\n",
       "      <th></th>\n",
       "      <th></th>\n",
       "      <th></th>\n",
       "      <th></th>\n",
       "      <th></th>\n",
       "      <th></th>\n",
       "    </tr>\n",
       "  </thead>\n",
       "  <tbody>\n",
       "    <tr>\n",
       "      <th>C00001</th>\n",
       "      <td>73</td>\n",
       "      <td>1</td>\n",
       "      <td>121.82</td>\n",
       "      <td>4</td>\n",
       "      <td>1</td>\n",
       "      <td>3</td>\n",
       "      <td>8</td>\n",
       "    </tr>\n",
       "    <tr>\n",
       "      <th>C00002</th>\n",
       "      <td>66</td>\n",
       "      <td>1</td>\n",
       "      <td>155.76</td>\n",
       "      <td>4</td>\n",
       "      <td>1</td>\n",
       "      <td>3</td>\n",
       "      <td>8</td>\n",
       "    </tr>\n",
       "    <tr>\n",
       "      <th>C00003</th>\n",
       "      <td>337</td>\n",
       "      <td>1</td>\n",
       "      <td>181.55</td>\n",
       "      <td>2</td>\n",
       "      <td>1</td>\n",
       "      <td>3</td>\n",
       "      <td>6</td>\n",
       "    </tr>\n",
       "    <tr>\n",
       "      <th>C00004</th>\n",
       "      <td>193</td>\n",
       "      <td>1</td>\n",
       "      <td>90.78</td>\n",
       "      <td>3</td>\n",
       "      <td>1</td>\n",
       "      <td>2</td>\n",
       "      <td>6</td>\n",
       "    </tr>\n",
       "    <tr>\n",
       "      <th>C00005</th>\n",
       "      <td>283</td>\n",
       "      <td>1</td>\n",
       "      <td>266.89</td>\n",
       "      <td>2</td>\n",
       "      <td>1</td>\n",
       "      <td>4</td>\n",
       "      <td>7</td>\n",
       "    </tr>\n",
       "  </tbody>\n",
       "</table>\n",
       "</div>"
      ],
      "text/plain": [
       "                    Recency  Frequency  Monetary  R  F  M  Score_RFM\n",
       "customer_unique_id                                                  \n",
       "C00001                   73          1    121.82  4  1  3          8\n",
       "C00002                   66          1    155.76  4  1  3          8\n",
       "C00003                  337          1    181.55  2  1  3          6\n",
       "C00004                  193          1     90.78  3  1  2          6\n",
       "C00005                  283          1    266.89  2  1  4          7"
      ]
     },
     "execution_count": 46,
     "metadata": {},
     "output_type": "execute_result"
    }
   ],
   "source": [
    "df_agg.head()"
   ]
  },
  {
   "cell_type": "markdown",
   "metadata": {},
   "source": [
    "**ATENÇÃO: A OPERAÇÃO ABAIXO É CONCATENAÇÃO E NÃO SOMA!**"
   ]
  },
  {
   "cell_type": "code",
   "execution_count": 47,
   "metadata": {},
   "outputs": [],
   "source": [
    "# Concatena valores de RFM para criar segmentos de RFM\n",
    "def join_rfm(x):\n",
    "    return str(x['R']) + str(x['F']) + str(x['M'])"
   ]
  },
  {
   "cell_type": "code",
   "execution_count": 48,
   "metadata": {},
   "outputs": [],
   "source": [
    "# Aplica a função\n",
    "df_agg['Segmento_RFM'] = df_agg.apply(join_rfm, axis = 1)"
   ]
  },
  {
   "cell_type": "code",
   "execution_count": 49,
   "metadata": {},
   "outputs": [
    {
     "data": {
      "text/html": [
       "<div>\n",
       "<style scoped>\n",
       "    .dataframe tbody tr th:only-of-type {\n",
       "        vertical-align: middle;\n",
       "    }\n",
       "\n",
       "    .dataframe tbody tr th {\n",
       "        vertical-align: top;\n",
       "    }\n",
       "\n",
       "    .dataframe thead th {\n",
       "        text-align: right;\n",
       "    }\n",
       "</style>\n",
       "<table border=\"1\" class=\"dataframe\">\n",
       "  <thead>\n",
       "    <tr style=\"text-align: right;\">\n",
       "      <th></th>\n",
       "      <th>Recency</th>\n",
       "      <th>Frequency</th>\n",
       "      <th>Monetary</th>\n",
       "      <th>R</th>\n",
       "      <th>F</th>\n",
       "      <th>M</th>\n",
       "      <th>Score_RFM</th>\n",
       "      <th>Segmento_RFM</th>\n",
       "    </tr>\n",
       "    <tr>\n",
       "      <th>customer_unique_id</th>\n",
       "      <th></th>\n",
       "      <th></th>\n",
       "      <th></th>\n",
       "      <th></th>\n",
       "      <th></th>\n",
       "      <th></th>\n",
       "      <th></th>\n",
       "      <th></th>\n",
       "    </tr>\n",
       "  </thead>\n",
       "  <tbody>\n",
       "    <tr>\n",
       "      <th>C00001</th>\n",
       "      <td>73</td>\n",
       "      <td>1</td>\n",
       "      <td>121.82</td>\n",
       "      <td>4</td>\n",
       "      <td>1</td>\n",
       "      <td>3</td>\n",
       "      <td>8</td>\n",
       "      <td>4.01.03.0</td>\n",
       "    </tr>\n",
       "    <tr>\n",
       "      <th>C00002</th>\n",
       "      <td>66</td>\n",
       "      <td>1</td>\n",
       "      <td>155.76</td>\n",
       "      <td>4</td>\n",
       "      <td>1</td>\n",
       "      <td>3</td>\n",
       "      <td>8</td>\n",
       "      <td>4.01.03.0</td>\n",
       "    </tr>\n",
       "    <tr>\n",
       "      <th>C00003</th>\n",
       "      <td>337</td>\n",
       "      <td>1</td>\n",
       "      <td>181.55</td>\n",
       "      <td>2</td>\n",
       "      <td>1</td>\n",
       "      <td>3</td>\n",
       "      <td>6</td>\n",
       "      <td>2.01.03.0</td>\n",
       "    </tr>\n",
       "    <tr>\n",
       "      <th>C00004</th>\n",
       "      <td>193</td>\n",
       "      <td>1</td>\n",
       "      <td>90.78</td>\n",
       "      <td>3</td>\n",
       "      <td>1</td>\n",
       "      <td>2</td>\n",
       "      <td>6</td>\n",
       "      <td>3.01.02.0</td>\n",
       "    </tr>\n",
       "    <tr>\n",
       "      <th>C00005</th>\n",
       "      <td>283</td>\n",
       "      <td>1</td>\n",
       "      <td>266.89</td>\n",
       "      <td>2</td>\n",
       "      <td>1</td>\n",
       "      <td>4</td>\n",
       "      <td>7</td>\n",
       "      <td>2.01.04.0</td>\n",
       "    </tr>\n",
       "  </tbody>\n",
       "</table>\n",
       "</div>"
      ],
      "text/plain": [
       "                    Recency  Frequency  Monetary  R  F  M  Score_RFM  \\\n",
       "customer_unique_id                                                     \n",
       "C00001                   73          1    121.82  4  1  3          8   \n",
       "C00002                   66          1    155.76  4  1  3          8   \n",
       "C00003                  337          1    181.55  2  1  3          6   \n",
       "C00004                  193          1     90.78  3  1  2          6   \n",
       "C00005                  283          1    266.89  2  1  4          7   \n",
       "\n",
       "                   Segmento_RFM  \n",
       "customer_unique_id               \n",
       "C00001                4.01.03.0  \n",
       "C00002                4.01.03.0  \n",
       "C00003                2.01.03.0  \n",
       "C00004                3.01.02.0  \n",
       "C00005                2.01.04.0  "
      ]
     },
     "execution_count": 49,
     "metadata": {},
     "output_type": "execute_result"
    }
   ],
   "source": [
    "# Visualiza\n",
    "df_agg.head()"
   ]
  },
  {
   "cell_type": "code",
   "execution_count": 50,
   "metadata": {},
   "outputs": [],
   "source": [
    "# Aplica a função\n",
    "df_agg['Segmento_RFM'] = df_agg.apply(join_rfm, axis = 1)"
   ]
  },
  {
   "cell_type": "code",
   "execution_count": 51,
   "metadata": {},
   "outputs": [
    {
     "data": {
      "text/html": [
       "<div>\n",
       "<style scoped>\n",
       "    .dataframe tbody tr th:only-of-type {\n",
       "        vertical-align: middle;\n",
       "    }\n",
       "\n",
       "    .dataframe tbody tr th {\n",
       "        vertical-align: top;\n",
       "    }\n",
       "\n",
       "    .dataframe thead th {\n",
       "        text-align: right;\n",
       "    }\n",
       "</style>\n",
       "<table border=\"1\" class=\"dataframe\">\n",
       "  <thead>\n",
       "    <tr style=\"text-align: right;\">\n",
       "      <th></th>\n",
       "      <th>Recency</th>\n",
       "      <th>Frequency</th>\n",
       "      <th>Monetary</th>\n",
       "      <th>R</th>\n",
       "      <th>F</th>\n",
       "      <th>M</th>\n",
       "      <th>Score_RFM</th>\n",
       "      <th>Segmento_RFM</th>\n",
       "    </tr>\n",
       "    <tr>\n",
       "      <th>customer_unique_id</th>\n",
       "      <th></th>\n",
       "      <th></th>\n",
       "      <th></th>\n",
       "      <th></th>\n",
       "      <th></th>\n",
       "      <th></th>\n",
       "      <th></th>\n",
       "      <th></th>\n",
       "    </tr>\n",
       "  </thead>\n",
       "  <tbody>\n",
       "    <tr>\n",
       "      <th>C00001</th>\n",
       "      <td>73</td>\n",
       "      <td>1</td>\n",
       "      <td>121.82</td>\n",
       "      <td>4</td>\n",
       "      <td>1</td>\n",
       "      <td>3</td>\n",
       "      <td>8</td>\n",
       "      <td>413</td>\n",
       "    </tr>\n",
       "    <tr>\n",
       "      <th>C00002</th>\n",
       "      <td>66</td>\n",
       "      <td>1</td>\n",
       "      <td>155.76</td>\n",
       "      <td>4</td>\n",
       "      <td>1</td>\n",
       "      <td>3</td>\n",
       "      <td>8</td>\n",
       "      <td>413</td>\n",
       "    </tr>\n",
       "    <tr>\n",
       "      <th>C00003</th>\n",
       "      <td>337</td>\n",
       "      <td>1</td>\n",
       "      <td>181.55</td>\n",
       "      <td>2</td>\n",
       "      <td>1</td>\n",
       "      <td>3</td>\n",
       "      <td>6</td>\n",
       "      <td>213</td>\n",
       "    </tr>\n",
       "    <tr>\n",
       "      <th>C00004</th>\n",
       "      <td>193</td>\n",
       "      <td>1</td>\n",
       "      <td>90.78</td>\n",
       "      <td>3</td>\n",
       "      <td>1</td>\n",
       "      <td>2</td>\n",
       "      <td>6</td>\n",
       "      <td>312</td>\n",
       "    </tr>\n",
       "    <tr>\n",
       "      <th>C00005</th>\n",
       "      <td>283</td>\n",
       "      <td>1</td>\n",
       "      <td>266.89</td>\n",
       "      <td>2</td>\n",
       "      <td>1</td>\n",
       "      <td>4</td>\n",
       "      <td>7</td>\n",
       "      <td>214</td>\n",
       "    </tr>\n",
       "  </tbody>\n",
       "</table>\n",
       "</div>"
      ],
      "text/plain": [
       "                    Recency  Frequency  Monetary  R  F  M  Score_RFM  \\\n",
       "customer_unique_id                                                     \n",
       "C00001                   73          1    121.82  4  1  3          8   \n",
       "C00002                   66          1    155.76  4  1  3          8   \n",
       "C00003                  337          1    181.55  2  1  3          6   \n",
       "C00004                  193          1     90.78  3  1  2          6   \n",
       "C00005                  283          1    266.89  2  1  4          7   \n",
       "\n",
       "                   Segmento_RFM  \n",
       "customer_unique_id               \n",
       "C00001                      413  \n",
       "C00002                      413  \n",
       "C00003                      213  \n",
       "C00004                      312  \n",
       "C00005                      214  "
      ]
     },
     "execution_count": 51,
     "metadata": {},
     "output_type": "execute_result"
    }
   ],
   "source": [
    "# Visualiza\n",
    "df_agg.head()"
   ]
  },
  {
   "cell_type": "code",
   "execution_count": 52,
   "metadata": {},
   "outputs": [],
   "source": [
    "# Contamos o número de segmentos únicos\n",
    "rfm_count_unique = df_agg.groupby('Segmento_RFM')['Segmento_RFM'].nunique()"
   ]
  },
  {
   "cell_type": "code",
   "execution_count": 53,
   "metadata": {},
   "outputs": [
    {
     "name": "stdout",
     "output_type": "stream",
     "text": [
      "32\n"
     ]
    }
   ],
   "source": [
    "print(rfm_count_unique.sum())"
   ]
  },
  {
   "cell_type": "code",
   "execution_count": 54,
   "metadata": {},
   "outputs": [],
   "source": [
    "# Criamos uma cópia do dataframe\n",
    "rfm = df_agg"
   ]
  },
  {
   "cell_type": "code",
   "execution_count": 55,
   "metadata": {},
   "outputs": [
    {
     "data": {
      "text/html": [
       "<div>\n",
       "<style scoped>\n",
       "    .dataframe tbody tr th:only-of-type {\n",
       "        vertical-align: middle;\n",
       "    }\n",
       "\n",
       "    .dataframe tbody tr th {\n",
       "        vertical-align: top;\n",
       "    }\n",
       "\n",
       "    .dataframe thead th {\n",
       "        text-align: right;\n",
       "    }\n",
       "</style>\n",
       "<table border=\"1\" class=\"dataframe\">\n",
       "  <thead>\n",
       "    <tr style=\"text-align: right;\">\n",
       "      <th></th>\n",
       "      <th>Recency</th>\n",
       "      <th>Frequency</th>\n",
       "      <th>Monetary</th>\n",
       "      <th>R</th>\n",
       "      <th>F</th>\n",
       "      <th>M</th>\n",
       "      <th>Score_RFM</th>\n",
       "      <th>Segmento_RFM</th>\n",
       "    </tr>\n",
       "    <tr>\n",
       "      <th>customer_unique_id</th>\n",
       "      <th></th>\n",
       "      <th></th>\n",
       "      <th></th>\n",
       "      <th></th>\n",
       "      <th></th>\n",
       "      <th></th>\n",
       "      <th></th>\n",
       "      <th></th>\n",
       "    </tr>\n",
       "  </thead>\n",
       "  <tbody>\n",
       "    <tr>\n",
       "      <th>C00001</th>\n",
       "      <td>73</td>\n",
       "      <td>1</td>\n",
       "      <td>121.82</td>\n",
       "      <td>4</td>\n",
       "      <td>1</td>\n",
       "      <td>3</td>\n",
       "      <td>8</td>\n",
       "      <td>413</td>\n",
       "    </tr>\n",
       "    <tr>\n",
       "      <th>C00002</th>\n",
       "      <td>66</td>\n",
       "      <td>1</td>\n",
       "      <td>155.76</td>\n",
       "      <td>4</td>\n",
       "      <td>1</td>\n",
       "      <td>3</td>\n",
       "      <td>8</td>\n",
       "      <td>413</td>\n",
       "    </tr>\n",
       "    <tr>\n",
       "      <th>C00003</th>\n",
       "      <td>337</td>\n",
       "      <td>1</td>\n",
       "      <td>181.55</td>\n",
       "      <td>2</td>\n",
       "      <td>1</td>\n",
       "      <td>3</td>\n",
       "      <td>6</td>\n",
       "      <td>213</td>\n",
       "    </tr>\n",
       "    <tr>\n",
       "      <th>C00004</th>\n",
       "      <td>193</td>\n",
       "      <td>1</td>\n",
       "      <td>90.78</td>\n",
       "      <td>3</td>\n",
       "      <td>1</td>\n",
       "      <td>2</td>\n",
       "      <td>6</td>\n",
       "      <td>312</td>\n",
       "    </tr>\n",
       "    <tr>\n",
       "      <th>C00005</th>\n",
       "      <td>283</td>\n",
       "      <td>1</td>\n",
       "      <td>266.89</td>\n",
       "      <td>2</td>\n",
       "      <td>1</td>\n",
       "      <td>4</td>\n",
       "      <td>7</td>\n",
       "      <td>214</td>\n",
       "    </tr>\n",
       "  </tbody>\n",
       "</table>\n",
       "</div>"
      ],
      "text/plain": [
       "                    Recency  Frequency  Monetary  R  F  M  Score_RFM  \\\n",
       "customer_unique_id                                                     \n",
       "C00001                   73          1    121.82  4  1  3          8   \n",
       "C00002                   66          1    155.76  4  1  3          8   \n",
       "C00003                  337          1    181.55  2  1  3          6   \n",
       "C00004                  193          1     90.78  3  1  2          6   \n",
       "C00005                  283          1    266.89  2  1  4          7   \n",
       "\n",
       "                   Segmento_RFM  \n",
       "customer_unique_id               \n",
       "C00001                      413  \n",
       "C00002                      413  \n",
       "C00003                      213  \n",
       "C00004                      312  \n",
       "C00005                      214  "
      ]
     },
     "execution_count": 55,
     "metadata": {},
     "output_type": "execute_result"
    }
   ],
   "source": [
    "# Amostra\n",
    "rfm.head()"
   ]
  },
  {
   "cell_type": "code",
   "execution_count": 56,
   "metadata": {},
   "outputs": [
    {
     "name": "stdout",
     "output_type": "stream",
     "text": [
      "<class 'pandas.core.frame.DataFrame'>\n",
      "Index: 94087 entries, C00001 to C96999\n",
      "Data columns (total 8 columns):\n",
      " #   Column        Non-Null Count  Dtype  \n",
      "---  ------        --------------  -----  \n",
      " 0   Recency       94087 non-null  int64  \n",
      " 1   Frequency     94087 non-null  int64  \n",
      " 2   Monetary      94087 non-null  float64\n",
      " 3   R             94087 non-null  int64  \n",
      " 4   F             94087 non-null  int64  \n",
      " 5   M             94087 non-null  int64  \n",
      " 6   Score_RFM     94087 non-null  int64  \n",
      " 7   Segmento_RFM  94087 non-null  object \n",
      "dtypes: float64(1), int64(6), object(1)\n",
      "memory usage: 8.5+ MB\n"
     ]
    }
   ],
   "source": [
    "# Info\n",
    "rfm.info()"
   ]
  },
  {
   "cell_type": "code",
   "execution_count": 57,
   "metadata": {},
   "outputs": [],
   "source": [
    "# Ajusta o tipo de dado\n",
    "rfm['Segmento_RFM'] = rfm['Segmento_RFM'].astype(str).astype(int)"
   ]
  },
  {
   "cell_type": "code",
   "execution_count": 58,
   "metadata": {},
   "outputs": [
    {
     "name": "stdout",
     "output_type": "stream",
     "text": [
      "<class 'pandas.core.frame.DataFrame'>\n",
      "Index: 94087 entries, C00001 to C96999\n",
      "Data columns (total 8 columns):\n",
      " #   Column        Non-Null Count  Dtype  \n",
      "---  ------        --------------  -----  \n",
      " 0   Recency       94087 non-null  int64  \n",
      " 1   Frequency     94087 non-null  int64  \n",
      " 2   Monetary      94087 non-null  float64\n",
      " 3   R             94087 non-null  int64  \n",
      " 4   F             94087 non-null  int64  \n",
      " 5   M             94087 non-null  int64  \n",
      " 6   Score_RFM     94087 non-null  int64  \n",
      " 7   Segmento_RFM  94087 non-null  int64  \n",
      "dtypes: float64(1), int64(7)\n",
      "memory usage: 8.5+ MB\n"
     ]
    }
   ],
   "source": [
    "# Info\n",
    "rfm.info()"
   ]
  },
  {
   "cell_type": "code",
   "execution_count": 59,
   "metadata": {},
   "outputs": [
    {
     "data": {
      "text/html": [
       "<div>\n",
       "<style scoped>\n",
       "    .dataframe tbody tr th:only-of-type {\n",
       "        vertical-align: middle;\n",
       "    }\n",
       "\n",
       "    .dataframe tbody tr th {\n",
       "        vertical-align: top;\n",
       "    }\n",
       "\n",
       "    .dataframe thead th {\n",
       "        text-align: right;\n",
       "    }\n",
       "</style>\n",
       "<table border=\"1\" class=\"dataframe\">\n",
       "  <thead>\n",
       "    <tr style=\"text-align: right;\">\n",
       "      <th></th>\n",
       "      <th>Recency</th>\n",
       "      <th>Frequency</th>\n",
       "      <th>Monetary</th>\n",
       "      <th>R</th>\n",
       "      <th>F</th>\n",
       "      <th>M</th>\n",
       "      <th>Score_RFM</th>\n",
       "      <th>Segmento_RFM</th>\n",
       "    </tr>\n",
       "  </thead>\n",
       "  <tbody>\n",
       "    <tr>\n",
       "      <th>count</th>\n",
       "      <td>94087.000000</td>\n",
       "      <td>94087.000000</td>\n",
       "      <td>94087.000000</td>\n",
       "      <td>94087.000000</td>\n",
       "      <td>94087.000000</td>\n",
       "      <td>94087.000000</td>\n",
       "      <td>94087.000000</td>\n",
       "      <td>94087.000000</td>\n",
       "    </tr>\n",
       "    <tr>\n",
       "      <th>mean</th>\n",
       "      <td>243.803575</td>\n",
       "      <td>1.239077</td>\n",
       "      <td>214.249054</td>\n",
       "      <td>2.503895</td>\n",
       "      <td>1.150627</td>\n",
       "      <td>2.499283</td>\n",
       "      <td>6.153804</td>\n",
       "      <td>264.395081</td>\n",
       "    </tr>\n",
       "    <tr>\n",
       "      <th>std</th>\n",
       "      <td>153.156983</td>\n",
       "      <td>0.850594</td>\n",
       "      <td>647.368039</td>\n",
       "      <td>1.119577</td>\n",
       "      <td>0.357686</td>\n",
       "      <td>1.118482</td>\n",
       "      <td>1.715630</td>\n",
       "      <td>112.037091</td>\n",
       "    </tr>\n",
       "    <tr>\n",
       "      <th>min</th>\n",
       "      <td>1.000000</td>\n",
       "      <td>1.000000</td>\n",
       "      <td>9.590000</td>\n",
       "      <td>1.000000</td>\n",
       "      <td>1.000000</td>\n",
       "      <td>1.000000</td>\n",
       "      <td>3.000000</td>\n",
       "      <td>111.000000</td>\n",
       "    </tr>\n",
       "    <tr>\n",
       "      <th>25%</th>\n",
       "      <td>120.000000</td>\n",
       "      <td>1.000000</td>\n",
       "      <td>64.000000</td>\n",
       "      <td>2.000000</td>\n",
       "      <td>1.000000</td>\n",
       "      <td>1.000000</td>\n",
       "      <td>5.000000</td>\n",
       "      <td>211.000000</td>\n",
       "    </tr>\n",
       "    <tr>\n",
       "      <th>50%</th>\n",
       "      <td>224.000000</td>\n",
       "      <td>1.000000</td>\n",
       "      <td>113.150000</td>\n",
       "      <td>3.000000</td>\n",
       "      <td>1.000000</td>\n",
       "      <td>2.000000</td>\n",
       "      <td>6.000000</td>\n",
       "      <td>311.000000</td>\n",
       "    </tr>\n",
       "    <tr>\n",
       "      <th>75%</th>\n",
       "      <td>353.000000</td>\n",
       "      <td>1.000000</td>\n",
       "      <td>203.770000</td>\n",
       "      <td>4.000000</td>\n",
       "      <td>1.000000</td>\n",
       "      <td>3.000000</td>\n",
       "      <td>7.000000</td>\n",
       "      <td>411.000000</td>\n",
       "    </tr>\n",
       "    <tr>\n",
       "      <th>max</th>\n",
       "      <td>730.000000</td>\n",
       "      <td>75.000000</td>\n",
       "      <td>109312.640000</td>\n",
       "      <td>4.000000</td>\n",
       "      <td>2.000000</td>\n",
       "      <td>4.000000</td>\n",
       "      <td>10.000000</td>\n",
       "      <td>424.000000</td>\n",
       "    </tr>\n",
       "  </tbody>\n",
       "</table>\n",
       "</div>"
      ],
      "text/plain": [
       "            Recency     Frequency       Monetary             R             F  \\\n",
       "count  94087.000000  94087.000000   94087.000000  94087.000000  94087.000000   \n",
       "mean     243.803575      1.239077     214.249054      2.503895      1.150627   \n",
       "std      153.156983      0.850594     647.368039      1.119577      0.357686   \n",
       "min        1.000000      1.000000       9.590000      1.000000      1.000000   \n",
       "25%      120.000000      1.000000      64.000000      2.000000      1.000000   \n",
       "50%      224.000000      1.000000     113.150000      3.000000      1.000000   \n",
       "75%      353.000000      1.000000     203.770000      4.000000      1.000000   \n",
       "max      730.000000     75.000000  109312.640000      4.000000      2.000000   \n",
       "\n",
       "                  M     Score_RFM  Segmento_RFM  \n",
       "count  94087.000000  94087.000000  94087.000000  \n",
       "mean       2.499283      6.153804    264.395081  \n",
       "std        1.118482      1.715630    112.037091  \n",
       "min        1.000000      3.000000    111.000000  \n",
       "25%        1.000000      5.000000    211.000000  \n",
       "50%        2.000000      6.000000    311.000000  \n",
       "75%        3.000000      7.000000    411.000000  \n",
       "max        4.000000     10.000000    424.000000  "
      ]
     },
     "execution_count": 59,
     "metadata": {},
     "output_type": "execute_result"
    }
   ],
   "source": [
    "# Describe\n",
    "rfm.describe()"
   ]
  },
  {
   "cell_type": "markdown",
   "metadata": {},
   "source": [
    "## Segmentação de Clientes Usando Análise RFM"
   ]
  },
  {
   "cell_type": "code",
   "execution_count": 60,
   "metadata": {},
   "outputs": [],
   "source": [
    "# Função para criar os níveis RFM\n",
    "def rfm_level(df):\n",
    "    \n",
    "    if (df['Segmento_RFM'] >= 424 | (df['Score_RFM'] >= 9)) :\n",
    "        return 'Clientes VIP'\n",
    "    \n",
    "    elif ((df['Score_RFM'] >= 8) & (df['M'] == 4)):\n",
    "        return 'Clientes Leais Que Compram com Frequência'\n",
    "    \n",
    "    elif ((df['Score_RFM'] >= 6) & (df['F'] >= 2)):\n",
    "        return 'Clientes Leais'\n",
    "    \n",
    "    elif ((df['Score_RFM'] <= 4) & (df['R'] == 1)):\n",
    "        return 'Clientes Quase Perdidos'\n",
    "    \n",
    "    elif ((df['Segmento_RFM'] >= 221) | (df['Score_RFM'] >= 6)):\n",
    "        return 'Potenciais Clientes Leais'\n",
    "    \n",
    "    elif ((df['Segmento_RFM'] >= 121) & (df['R'] == 1) | (df['Score_RFM'] == 5)):\n",
    "        return 'Clientes Que Precisam de Atenção'\n",
    "    \n",
    "    else:\n",
    "        return 'Clientes Perdidos'"
   ]
  },
  {
   "cell_type": "code",
   "execution_count": 61,
   "metadata": {},
   "outputs": [],
   "source": [
    "# Função para as ações RFM\n",
    "def rfm_action(df):\n",
    "    \n",
    "    if (df['Segmento_RFM'] >= 424 | (df['Score_RFM'] >= 9)) :\n",
    "        return 'Incentivos não relacionados a preços; Oferecer edição limitada e programas de fidelidade'\n",
    "    \n",
    "    elif ((df['Score_RFM'] >= 8) & (df['M'] == 4)):\n",
    "        return 'Oferecer itens mais caros (Upsell)'\n",
    "    \n",
    "    elif ((df['Score_RFM'] >= 6) & (df['F'] >= 2)):\n",
    "        return 'Oferecer programas de fidelidade e venda cruzada (Cross-Sell)'\n",
    "    \n",
    "    elif ((df['Score_RFM'] <= 4) & (df['R'] == 1)):\n",
    "        return 'Oferecer Incentivos de preços agressivos'\n",
    "    \n",
    "    elif ((df['Segmento_RFM'] >= 221) | (df['Score_RFM'] >= 6)):\n",
    "        return 'Recomendações de venda cruzada e cupons de desconto'\n",
    "    \n",
    "    elif (((df['Segmento_RFM'] >= 121) & (df['R'] == 1)) | (df['Score_RFM'] == 5)):\n",
    "        return 'Incentivos de preço e oferta por tempo limitado'\n",
    "    \n",
    "    else:\n",
    "        return 'Não gaste muito tentando readquirir esse cliente'"
   ]
  },
  {
   "cell_type": "code",
   "execution_count": 62,
   "metadata": {},
   "outputs": [
    {
     "data": {
      "text/html": [
       "<div>\n",
       "<style scoped>\n",
       "    .dataframe tbody tr th:only-of-type {\n",
       "        vertical-align: middle;\n",
       "    }\n",
       "\n",
       "    .dataframe tbody tr th {\n",
       "        vertical-align: top;\n",
       "    }\n",
       "\n",
       "    .dataframe thead th {\n",
       "        text-align: right;\n",
       "    }\n",
       "</style>\n",
       "<table border=\"1\" class=\"dataframe\">\n",
       "  <thead>\n",
       "    <tr style=\"text-align: right;\">\n",
       "      <th></th>\n",
       "      <th>Recency</th>\n",
       "      <th>Frequency</th>\n",
       "      <th>Monetary</th>\n",
       "      <th>R</th>\n",
       "      <th>F</th>\n",
       "      <th>M</th>\n",
       "      <th>Score_RFM</th>\n",
       "      <th>Segmento_RFM</th>\n",
       "    </tr>\n",
       "    <tr>\n",
       "      <th>customer_unique_id</th>\n",
       "      <th></th>\n",
       "      <th></th>\n",
       "      <th></th>\n",
       "      <th></th>\n",
       "      <th></th>\n",
       "      <th></th>\n",
       "      <th></th>\n",
       "      <th></th>\n",
       "    </tr>\n",
       "  </thead>\n",
       "  <tbody>\n",
       "    <tr>\n",
       "      <th>C00001</th>\n",
       "      <td>73</td>\n",
       "      <td>1</td>\n",
       "      <td>121.82</td>\n",
       "      <td>4</td>\n",
       "      <td>1</td>\n",
       "      <td>3</td>\n",
       "      <td>8</td>\n",
       "      <td>413</td>\n",
       "    </tr>\n",
       "    <tr>\n",
       "      <th>C00002</th>\n",
       "      <td>66</td>\n",
       "      <td>1</td>\n",
       "      <td>155.76</td>\n",
       "      <td>4</td>\n",
       "      <td>1</td>\n",
       "      <td>3</td>\n",
       "      <td>8</td>\n",
       "      <td>413</td>\n",
       "    </tr>\n",
       "    <tr>\n",
       "      <th>C00003</th>\n",
       "      <td>337</td>\n",
       "      <td>1</td>\n",
       "      <td>181.55</td>\n",
       "      <td>2</td>\n",
       "      <td>1</td>\n",
       "      <td>3</td>\n",
       "      <td>6</td>\n",
       "      <td>213</td>\n",
       "    </tr>\n",
       "    <tr>\n",
       "      <th>C00004</th>\n",
       "      <td>193</td>\n",
       "      <td>1</td>\n",
       "      <td>90.78</td>\n",
       "      <td>3</td>\n",
       "      <td>1</td>\n",
       "      <td>2</td>\n",
       "      <td>6</td>\n",
       "      <td>312</td>\n",
       "    </tr>\n",
       "    <tr>\n",
       "      <th>C00005</th>\n",
       "      <td>283</td>\n",
       "      <td>1</td>\n",
       "      <td>266.89</td>\n",
       "      <td>2</td>\n",
       "      <td>1</td>\n",
       "      <td>4</td>\n",
       "      <td>7</td>\n",
       "      <td>214</td>\n",
       "    </tr>\n",
       "  </tbody>\n",
       "</table>\n",
       "</div>"
      ],
      "text/plain": [
       "                    Recency  Frequency  Monetary  R  F  M  Score_RFM  \\\n",
       "customer_unique_id                                                     \n",
       "C00001                   73          1    121.82  4  1  3          8   \n",
       "C00002                   66          1    155.76  4  1  3          8   \n",
       "C00003                  337          1    181.55  2  1  3          6   \n",
       "C00004                  193          1     90.78  3  1  2          6   \n",
       "C00005                  283          1    266.89  2  1  4          7   \n",
       "\n",
       "                    Segmento_RFM  \n",
       "customer_unique_id                \n",
       "C00001                       413  \n",
       "C00002                       413  \n",
       "C00003                       213  \n",
       "C00004                       312  \n",
       "C00005                       214  "
      ]
     },
     "execution_count": 62,
     "metadata": {},
     "output_type": "execute_result"
    }
   ],
   "source": [
    "rfm.head()"
   ]
  },
  {
   "cell_type": "code",
   "execution_count": 63,
   "metadata": {},
   "outputs": [],
   "source": [
    "# Aplica a função e cria nova variável 'Segmento de Cliente'\n",
    "rfm['Segmento de Cliente'] = rfm.apply(rfm_level, axis = 1)"
   ]
  },
  {
   "cell_type": "code",
   "execution_count": 64,
   "metadata": {},
   "outputs": [],
   "source": [
    "# Aplica a função e cria uma nova variável 'Marketing Action'\n",
    "rfm['Marketing Action'] = rfm.apply(rfm_action, axis = 1)"
   ]
  },
  {
   "cell_type": "code",
   "execution_count": 65,
   "metadata": {},
   "outputs": [
    {
     "data": {
      "text/plain": [
       "Segmento de Cliente\n",
       "Potenciais Clientes Leais                    45421\n",
       "Clientes Leais Que Compram com Frequência    14249\n",
       "Clientes Quase Perdidos                      11595\n",
       "Clientes Que Precisam de Atenção             11043\n",
       "Clientes Leais                                6141\n",
       "Clientes Perdidos                             5638\n",
       "Name: count, dtype: int64"
      ]
     },
     "execution_count": 65,
     "metadata": {},
     "output_type": "execute_result"
    }
   ],
   "source": [
    "# Total de registros por segmento de cliente\n",
    "rfm['Segmento de Cliente'].value_counts()"
   ]
  },
  {
   "cell_type": "code",
   "execution_count": 66,
   "metadata": {},
   "outputs": [],
   "source": [
    "# Salva os dados em disco\n",
    "rfm.to_csv(\"rfm.csv\")"
   ]
  },
  {
   "cell_type": "code",
   "execution_count": 67,
   "metadata": {},
   "outputs": [],
   "source": [
    "# Calcula os valores médios para cada segmento e o tamanho do retorno de cada segmento\n",
    "rfm_level_agg = rfm.groupby(['Segmento de Cliente']).agg({'Recency': 'mean',\n",
    "                                                          'Frequency' : 'mean',\n",
    "                                                          'Monetary': ['mean', 'count'],\n",
    "                                                          'Marketing Action' : 'unique'}).round(1)"
   ]
  },
  {
   "cell_type": "code",
   "execution_count": 68,
   "metadata": {},
   "outputs": [
    {
     "data": {
      "text/html": [
       "<div>\n",
       "<style scoped>\n",
       "    .dataframe tbody tr th:only-of-type {\n",
       "        vertical-align: middle;\n",
       "    }\n",
       "\n",
       "    .dataframe tbody tr th {\n",
       "        vertical-align: top;\n",
       "    }\n",
       "\n",
       "    .dataframe thead tr th {\n",
       "        text-align: left;\n",
       "    }\n",
       "\n",
       "    .dataframe thead tr:last-of-type th {\n",
       "        text-align: right;\n",
       "    }\n",
       "</style>\n",
       "<table border=\"1\" class=\"dataframe\">\n",
       "  <thead>\n",
       "    <tr>\n",
       "      <th></th>\n",
       "      <th>Recency</th>\n",
       "      <th>Frequency</th>\n",
       "      <th colspan=\"2\" halign=\"left\">Monetary</th>\n",
       "      <th>Marketing Action</th>\n",
       "    </tr>\n",
       "    <tr>\n",
       "      <th></th>\n",
       "      <th>mean</th>\n",
       "      <th>mean</th>\n",
       "      <th>mean</th>\n",
       "      <th>count</th>\n",
       "      <th>unique</th>\n",
       "    </tr>\n",
       "    <tr>\n",
       "      <th>Segmento de Cliente</th>\n",
       "      <th></th>\n",
       "      <th></th>\n",
       "      <th></th>\n",
       "      <th></th>\n",
       "      <th></th>\n",
       "    </tr>\n",
       "  </thead>\n",
       "  <tbody>\n",
       "    <tr>\n",
       "      <th>Clientes Leais</th>\n",
       "      <td>305.2</td>\n",
       "      <td>2.4</td>\n",
       "      <td>356.9</td>\n",
       "      <td>6141</td>\n",
       "      <td>[Oferecer programas de fidelidade e venda cruz...</td>\n",
       "    </tr>\n",
       "    <tr>\n",
       "      <th>Clientes Leais Que Compram com Frequência</th>\n",
       "      <td>146.1</td>\n",
       "      <td>1.9</td>\n",
       "      <td>619.3</td>\n",
       "      <td>14249</td>\n",
       "      <td>[Oferecer itens mais caros (Upsell)]</td>\n",
       "    </tr>\n",
       "    <tr>\n",
       "      <th>Clientes Perdidos</th>\n",
       "      <td>281.9</td>\n",
       "      <td>1.0</td>\n",
       "      <td>44.2</td>\n",
       "      <td>5638</td>\n",
       "      <td>[Não gaste muito tentando readquirir esse clie...</td>\n",
       "    </tr>\n",
       "    <tr>\n",
       "      <th>Clientes Quase Perdidos</th>\n",
       "      <td>457.3</td>\n",
       "      <td>1.0</td>\n",
       "      <td>64.2</td>\n",
       "      <td>11595</td>\n",
       "      <td>[Oferecer Incentivos de preços agressivos]</td>\n",
       "    </tr>\n",
       "    <tr>\n",
       "      <th>Clientes Que Precisam de Atenção</th>\n",
       "      <td>368.5</td>\n",
       "      <td>1.0</td>\n",
       "      <td>114.9</td>\n",
       "      <td>11043</td>\n",
       "      <td>[Incentivos de preço e oferta por tempo limitado]</td>\n",
       "    </tr>\n",
       "    <tr>\n",
       "      <th>Potenciais Clientes Leais</th>\n",
       "      <td>176.6</td>\n",
       "      <td>1.0</td>\n",
       "      <td>151.5</td>\n",
       "      <td>45421</td>\n",
       "      <td>[Recomendações de venda cruzada e cupons de de...</td>\n",
       "    </tr>\n",
       "  </tbody>\n",
       "</table>\n",
       "</div>"
      ],
      "text/plain": [
       "                                          Recency Frequency Monetary         \\\n",
       "                                             mean      mean     mean  count   \n",
       "Segmento de Cliente                                                           \n",
       "Clientes Leais                              305.2       2.4    356.9   6141   \n",
       "Clientes Leais Que Compram com Frequência   146.1       1.9    619.3  14249   \n",
       "Clientes Perdidos                           281.9       1.0     44.2   5638   \n",
       "Clientes Quase Perdidos                     457.3       1.0     64.2  11595   \n",
       "Clientes Que Precisam de Atenção            368.5       1.0    114.9  11043   \n",
       "Potenciais Clientes Leais                   176.6       1.0    151.5  45421   \n",
       "\n",
       "                                                                            Marketing Action  \n",
       "                                                                                      unique  \n",
       "Segmento de Cliente                                                                           \n",
       "Clientes Leais                             [Oferecer programas de fidelidade e venda cruz...  \n",
       "Clientes Leais Que Compram com Frequência               [Oferecer itens mais caros (Upsell)]  \n",
       "Clientes Perdidos                          [Não gaste muito tentando readquirir esse clie...  \n",
       "Clientes Quase Perdidos                           [Oferecer Incentivos de preços agressivos]  \n",
       "Clientes Que Precisam de Atenção           [Incentivos de preço e oferta por tempo limitado]  \n",
       "Potenciais Clientes Leais                  [Recomendações de venda cruzada e cupons de de...  "
      ]
     },
     "execution_count": 68,
     "metadata": {},
     "output_type": "execute_result"
    }
   ],
   "source": [
    "# Imprime\n",
    "rfm_level_agg"
   ]
  },
  {
   "cell_type": "code",
   "execution_count": 69,
   "metadata": {},
   "outputs": [
    {
     "data": {
      "text/html": [
       "<div>\n",
       "<style scoped>\n",
       "    .dataframe tbody tr th:only-of-type {\n",
       "        vertical-align: middle;\n",
       "    }\n",
       "\n",
       "    .dataframe tbody tr th {\n",
       "        vertical-align: top;\n",
       "    }\n",
       "\n",
       "    .dataframe thead tr th {\n",
       "        text-align: left;\n",
       "    }\n",
       "</style>\n",
       "<table border=\"1\" class=\"dataframe\">\n",
       "  <thead>\n",
       "    <tr>\n",
       "      <th></th>\n",
       "      <th>Segmento de Cliente</th>\n",
       "      <th>Recency</th>\n",
       "      <th>Frequency</th>\n",
       "      <th colspan=\"2\" halign=\"left\">Monetary</th>\n",
       "      <th>Marketing Action</th>\n",
       "    </tr>\n",
       "    <tr>\n",
       "      <th></th>\n",
       "      <th></th>\n",
       "      <th>mean</th>\n",
       "      <th>mean</th>\n",
       "      <th>mean</th>\n",
       "      <th>count</th>\n",
       "      <th>unique</th>\n",
       "    </tr>\n",
       "  </thead>\n",
       "  <tbody>\n",
       "    <tr>\n",
       "      <th>0</th>\n",
       "      <td>Clientes Leais</td>\n",
       "      <td>305.2</td>\n",
       "      <td>2.4</td>\n",
       "      <td>356.9</td>\n",
       "      <td>6141</td>\n",
       "      <td>[Oferecer programas de fidelidade e venda cruz...</td>\n",
       "    </tr>\n",
       "    <tr>\n",
       "      <th>1</th>\n",
       "      <td>Clientes Leais Que Compram com Frequência</td>\n",
       "      <td>146.1</td>\n",
       "      <td>1.9</td>\n",
       "      <td>619.3</td>\n",
       "      <td>14249</td>\n",
       "      <td>[Oferecer itens mais caros (Upsell)]</td>\n",
       "    </tr>\n",
       "    <tr>\n",
       "      <th>2</th>\n",
       "      <td>Clientes Perdidos</td>\n",
       "      <td>281.9</td>\n",
       "      <td>1.0</td>\n",
       "      <td>44.2</td>\n",
       "      <td>5638</td>\n",
       "      <td>[Não gaste muito tentando readquirir esse clie...</td>\n",
       "    </tr>\n",
       "    <tr>\n",
       "      <th>3</th>\n",
       "      <td>Clientes Quase Perdidos</td>\n",
       "      <td>457.3</td>\n",
       "      <td>1.0</td>\n",
       "      <td>64.2</td>\n",
       "      <td>11595</td>\n",
       "      <td>[Oferecer Incentivos de preços agressivos]</td>\n",
       "    </tr>\n",
       "    <tr>\n",
       "      <th>4</th>\n",
       "      <td>Clientes Que Precisam de Atenção</td>\n",
       "      <td>368.5</td>\n",
       "      <td>1.0</td>\n",
       "      <td>114.9</td>\n",
       "      <td>11043</td>\n",
       "      <td>[Incentivos de preço e oferta por tempo limitado]</td>\n",
       "    </tr>\n",
       "    <tr>\n",
       "      <th>5</th>\n",
       "      <td>Potenciais Clientes Leais</td>\n",
       "      <td>176.6</td>\n",
       "      <td>1.0</td>\n",
       "      <td>151.5</td>\n",
       "      <td>45421</td>\n",
       "      <td>[Recomendações de venda cruzada e cupons de de...</td>\n",
       "    </tr>\n",
       "  </tbody>\n",
       "</table>\n",
       "</div>"
      ],
      "text/plain": [
       "                         Segmento de Cliente Recency Frequency Monetary  \\\n",
       "                                                mean      mean     mean   \n",
       "0                             Clientes Leais   305.2       2.4    356.9   \n",
       "1  Clientes Leais Que Compram com Frequência   146.1       1.9    619.3   \n",
       "2                          Clientes Perdidos   281.9       1.0     44.2   \n",
       "3                    Clientes Quase Perdidos   457.3       1.0     64.2   \n",
       "4           Clientes Que Precisam de Atenção   368.5       1.0    114.9   \n",
       "5                  Potenciais Clientes Leais   176.6       1.0    151.5   \n",
       "\n",
       "                                           Marketing Action  \n",
       "   count                                             unique  \n",
       "0   6141  [Oferecer programas de fidelidade e venda cruz...  \n",
       "1  14249               [Oferecer itens mais caros (Upsell)]  \n",
       "2   5638  [Não gaste muito tentando readquirir esse clie...  \n",
       "3  11595         [Oferecer Incentivos de preços agressivos]  \n",
       "4  11043  [Incentivos de preço e oferta por tempo limitado]  \n",
       "5  45421  [Recomendações de venda cruzada e cupons de de...  "
      ]
     },
     "execution_count": 69,
     "metadata": {},
     "output_type": "execute_result"
    }
   ],
   "source": [
    "# Ajustando o dataframe e fazendo o reset do índice\n",
    "rfm_level_ag = pd.DataFrame(rfm_level_agg)\n",
    "rfm_level_ag = rfm_level_ag.reset_index()\n",
    "rfm_level_ag"
   ]
  },
  {
   "cell_type": "markdown",
   "metadata": {},
   "source": [
    "**Recomendações Para a Área de Negócio:**\n",
    "\n",
    "**Clientes Leais** - São os clientes mais leais. Eles são ativos com compras frequentes e alto valor monetário. Eles podem ser os evangelistas da marca e a empresa deve se concentrar em servi-los muito bem. Eles podem ser os melhores clientes para obter feedback sobre o lançamento de qualquer novo produto ou ser os primeiros a adotar ou promover novos produtos/serviços.\n",
    "\n",
    "**Potenciais Clientes Leais** - Alto potencial para entrar em nossos segmentos de clientes fiéis, por que não oferecer alguns brindes em sua próxima compra para mostrar que você os valoriza?\n",
    "\n",
    "**Clientes Que Precisam de Atenção** - Mostrando sinais promissores com a quantidade e valor de sua compra, mas já faz um tempo que não compram. Vamos direcioná-los para seus itens da lista de desejos e um desconto com oferta por tempo limitado.\n",
    "\n",
    "**Clientes Quase Perdidos** - Fizeram algumas compras iniciais, mas não voltaram desde então. Foi uma experiência ruim para o cliente? Ou adequação ao mercado do produto? Vamos gastar alguns recursos para construir o conhecimento de nossa marca com eles?\n",
    "\n",
    "**Clientes Leais Que Compram com Frequência** - É sempre uma boa ideia tratar cuidadosamente todos os novos clientes, mas como esses clientes gastaram muito em suas compras, são ainda mais valiosos. É importante fazer com que eles se sintam valorizados e apreciados - e dar-lhes incentivos incríveis para continuar a interagir com a marca.\n",
    "\n",
    "**Clientes VIP** - Buscam e querem mais do que preço. Programa de fidelidade ou produto/serviço exclusivo ou limitado são opções para manter esses clientes."
   ]
  },
  {
   "cell_type": "markdown",
   "metadata": {},
   "source": [
    "## Dashboard Interativo\n",
    "\n",
    "Antes de criar um dashboard interativo, vamos criar um dashboard simples."
   ]
  },
  {
   "cell_type": "code",
   "execution_count": 70,
   "metadata": {},
   "outputs": [
    {
     "data": {
      "text/html": [
       "<div>\n",
       "<style scoped>\n",
       "    .dataframe tbody tr th:only-of-type {\n",
       "        vertical-align: middle;\n",
       "    }\n",
       "\n",
       "    .dataframe tbody tr th {\n",
       "        vertical-align: top;\n",
       "    }\n",
       "\n",
       "    .dataframe thead tr th {\n",
       "        text-align: left;\n",
       "    }\n",
       "\n",
       "    .dataframe thead tr:last-of-type th {\n",
       "        text-align: right;\n",
       "    }\n",
       "</style>\n",
       "<table border=\"1\" class=\"dataframe\">\n",
       "  <thead>\n",
       "    <tr>\n",
       "      <th></th>\n",
       "      <th>Recency</th>\n",
       "      <th>Frequency</th>\n",
       "      <th colspan=\"2\" halign=\"left\">Monetary</th>\n",
       "      <th>Marketing Action</th>\n",
       "    </tr>\n",
       "    <tr>\n",
       "      <th></th>\n",
       "      <th>mean</th>\n",
       "      <th>mean</th>\n",
       "      <th>mean</th>\n",
       "      <th>count</th>\n",
       "      <th>unique</th>\n",
       "    </tr>\n",
       "    <tr>\n",
       "      <th>Segmento de Cliente</th>\n",
       "      <th></th>\n",
       "      <th></th>\n",
       "      <th></th>\n",
       "      <th></th>\n",
       "      <th></th>\n",
       "    </tr>\n",
       "  </thead>\n",
       "  <tbody>\n",
       "    <tr>\n",
       "      <th>Clientes Leais</th>\n",
       "      <td>305.2</td>\n",
       "      <td>2.4</td>\n",
       "      <td>356.9</td>\n",
       "      <td>6141</td>\n",
       "      <td>[Oferecer programas de fidelidade e venda cruz...</td>\n",
       "    </tr>\n",
       "    <tr>\n",
       "      <th>Clientes Leais Que Compram com Frequência</th>\n",
       "      <td>146.1</td>\n",
       "      <td>1.9</td>\n",
       "      <td>619.3</td>\n",
       "      <td>14249</td>\n",
       "      <td>[Oferecer itens mais caros (Upsell)]</td>\n",
       "    </tr>\n",
       "    <tr>\n",
       "      <th>Clientes Perdidos</th>\n",
       "      <td>281.9</td>\n",
       "      <td>1.0</td>\n",
       "      <td>44.2</td>\n",
       "      <td>5638</td>\n",
       "      <td>[Não gaste muito tentando readquirir esse clie...</td>\n",
       "    </tr>\n",
       "    <tr>\n",
       "      <th>Clientes Quase Perdidos</th>\n",
       "      <td>457.3</td>\n",
       "      <td>1.0</td>\n",
       "      <td>64.2</td>\n",
       "      <td>11595</td>\n",
       "      <td>[Oferecer Incentivos de preços agressivos]</td>\n",
       "    </tr>\n",
       "    <tr>\n",
       "      <th>Clientes Que Precisam de Atenção</th>\n",
       "      <td>368.5</td>\n",
       "      <td>1.0</td>\n",
       "      <td>114.9</td>\n",
       "      <td>11043</td>\n",
       "      <td>[Incentivos de preço e oferta por tempo limitado]</td>\n",
       "    </tr>\n",
       "    <tr>\n",
       "      <th>Potenciais Clientes Leais</th>\n",
       "      <td>176.6</td>\n",
       "      <td>1.0</td>\n",
       "      <td>151.5</td>\n",
       "      <td>45421</td>\n",
       "      <td>[Recomendações de venda cruzada e cupons de de...</td>\n",
       "    </tr>\n",
       "  </tbody>\n",
       "</table>\n",
       "</div>"
      ],
      "text/plain": [
       "                                          Recency Frequency Monetary         \\\n",
       "                                             mean      mean     mean  count   \n",
       "Segmento de Cliente                                                           \n",
       "Clientes Leais                              305.2       2.4    356.9   6141   \n",
       "Clientes Leais Que Compram com Frequência   146.1       1.9    619.3  14249   \n",
       "Clientes Perdidos                           281.9       1.0     44.2   5638   \n",
       "Clientes Quase Perdidos                     457.3       1.0     64.2  11595   \n",
       "Clientes Que Precisam de Atenção            368.5       1.0    114.9  11043   \n",
       "Potenciais Clientes Leais                   176.6       1.0    151.5  45421   \n",
       "\n",
       "                                                                            Marketing Action  \n",
       "                                                                                      unique  \n",
       "Segmento de Cliente                                                                           \n",
       "Clientes Leais                             [Oferecer programas de fidelidade e venda cruz...  \n",
       "Clientes Leais Que Compram com Frequência               [Oferecer itens mais caros (Upsell)]  \n",
       "Clientes Perdidos                          [Não gaste muito tentando readquirir esse clie...  \n",
       "Clientes Quase Perdidos                           [Oferecer Incentivos de preços agressivos]  \n",
       "Clientes Que Precisam de Atenção           [Incentivos de preço e oferta por tempo limitado]  \n",
       "Potenciais Clientes Leais                  [Recomendações de venda cruzada e cupons de de...  "
      ]
     },
     "execution_count": 70,
     "metadata": {},
     "output_type": "execute_result"
    }
   ],
   "source": [
    "rfm_level_agg"
   ]
  },
  {
   "cell_type": "code",
   "execution_count": 71,
   "metadata": {},
   "outputs": [
    {
     "data": {
      "image/png": "[encoded data removed]",
      "text/plain": [
       "<Figure size 1600x1000 with 1 Axes>"
      ]
     },
     "metadata": {},
     "output_type": "display_data"
    }
   ],
   "source": [
    "# Plot\n",
    "rfm_level_agg.columns = ['RecencyMean', 'FrequencyMean', 'MonetaryMean', 'Count', 'MarketingAction']\n",
    "fig = plt.gcf()\n",
    "ax = fig.add_subplot()\n",
    "fig.set_size_inches(16, 10)\n",
    "sns.set(color_codes = True, style = 'whitegrid')\n",
    "squarify.plot(sizes = rfm_level_agg['Count'], \n",
    "              label = ['Clientes Leais Que Compram com Frequência',\n",
    "                       'Clientes Quase Perdidos',\n",
    "                       'Clientes Leais',\n",
    "                       'Clientes Que Precisam de Atenção',\n",
    "                       'Potenciais Clientes Leais',\n",
    "                       'Clientes VIP'], alpha=.6 )\n",
    "\n",
    "plt.title(\"\\nSegmentos RFM\\n\", fontsize = 25, fontweight = \"bold\")\n",
    "plt.axis('on')\n",
    "plt.show()"
   ]
  },
  {
   "cell_type": "code",
   "execution_count": 72,
   "metadata": {},
   "outputs": [
    {
     "data": {
      "application/vnd.plotly.v1+json": {
       "config": {
        "plotlyServerURL": "https://plot.ly"
       },
       "data": [
        {
         "labels": [
          "Clientes Leais",
          "Clientes Leais Que Compram com Frequência",
          "Clientes Perdidos",
          "Clientes Quase Perdidos",
          "Clientes Que Precisam de Atenção",
          "Potenciais Clientes Leais"
         ],
         "parents": [
          "Segmento de Cliente",
          "Segmento de Cliente",
          "Segmento de Cliente",
          "Segmento de Cliente",
          "Segmento de Cliente",
          "Segmento de Cliente",
          "Segmento de Cliente"
         ],
         "type": "treemap",
         "values": {
          "bdata": "/RcAAKk3AAAGFgAASy0AACMrAABtsQAA",
          "dtype": "i4"
         }
        }
       ],
       "layout": {
        "template": {
         "data": {
          "bar": [
           {
            "error_x": {
             "color": "#2a3f5f"
            },
            "error_y": {
             "color": "#2a3f5f"
            },
            "marker": {
             "line": {
              "color": "#E5ECF6",
              "width": 0.5
             },
             "pattern": {
              "fillmode": "overlay",
              "size": 10,
              "solidity": 0.2
             }
            },
            "type": "bar"
           }
          ],
          "barpolar": [
           {
            "marker": {
             "line": {
              "color": "#E5ECF6",
              "width": 0.5
             },
             "pattern": {
              "fillmode": "overlay",
              "size": 10,
              "solidity": 0.2
             }
            },
            "type": "barpolar"
           }
          ],
          "carpet": [
           {
            "aaxis": {
             "endlinecolor": "#2a3f5f",
             "gridcolor": "white",
             "linecolor": "white",
             "minorgridcolor": "white",
             "startlinecolor": "#2a3f5f"
            },
            "baxis": {
             "endlinecolor": "#2a3f5f",
             "gridcolor": "white",
             "linecolor": "white",
             "minorgridcolor": "white",
             "startlinecolor": "#2a3f5f"
            },
            "type": "carpet"
           }
          ],
          "choropleth": [
           {
            "colorbar": {
             "outlinewidth": 0,
             "ticks": ""
            },
            "type": "choropleth"
           }
          ],
          "contour": [
           {
            "colorbar": {
             "outlinewidth": 0,
             "ticks": ""
            },
            "colorscale": [
             [
              0,
              "#0d0887"
             ],
             [
              0.1111111111111111,
              "#46039f"
             ],
             [
              0.2222222222222222,
              "#7201a8"
             ],
             [
              0.3333333333333333,
              "#9c179e"
             ],
             [
              0.4444444444444444,
              "#bd3786"
             ],
             [
              0.5555555555555556,
              "#d8576b"
             ],
             [
              0.6666666666666666,
              "#ed7953"
             ],
             [
              0.7777777777777778,
              "#fb9f3a"
             ],
             [
              0.8888888888888888,
              "#fdca26"
             ],
             [
              1,
              "#f0f921"
             ]
            ],
            "type": "contour"
           }
          ],
          "contourcarpet": [
           {
            "colorbar": {
             "outlinewidth": 0,
             "ticks": ""
            },
            "type": "contourcarpet"
           }
          ],
          "heatmap": [
           {
            "colorbar": {
             "outlinewidth": 0,
             "ticks": ""
            },
            "colorscale": [
             [
              0,
              "#0d0887"
             ],
             [
              0.1111111111111111,
              "#46039f"
             ],
             [
              0.2222222222222222,
              "#7201a8"
             ],
             [
              0.3333333333333333,
              "#9c179e"
             ],
             [
              0.4444444444444444,
              "#bd3786"
             ],
             [
              0.5555555555555556,
              "#d8576b"
             ],
             [
              0.6666666666666666,
              "#ed7953"
             ],
             [
              0.7777777777777778,
              "#fb9f3a"
             ],
             [
              0.8888888888888888,
              "#fdca26"
             ],
             [
              1,
              "#f0f921"
             ]
            ],
            "type": "heatmap"
           }
          ],
          "histogram": [
           {
            "marker": {
             "pattern": {
              "fillmode": "overlay",
              "size": 10,
              "solidity": 0.2
             }
            },
            "type": "histogram"
           }
          ],
          "histogram2d": [
           {
            "colorbar": {
             "outlinewidth": 0,
             "ticks": ""
            },
            "colorscale": [
             [
              0,
              "#0d0887"
             ],
             [
              0.1111111111111111,
              "#46039f"
             ],
             [
              0.2222222222222222,
              "#7201a8"
             ],
             [
              0.3333333333333333,
              "#9c179e"
             ],
             [
              0.4444444444444444,
              "#bd3786"
             ],
             [
              0.5555555555555556,
              "#d8576b"
             ],
             [
              0.6666666666666666,
              "#ed7953"
             ],
             [
              0.7777777777777778,
              "#fb9f3a"
             ],
             [
              0.8888888888888888,
              "#fdca26"
             ],
             [
              1,
              "#f0f921"
             ]
            ],
            "type": "histogram2d"
           }
          ],
          "histogram2dcontour": [
           {
            "colorbar": {
             "outlinewidth": 0,
             "ticks": ""
            },
            "colorscale": [
             [
              0,
              "#0d0887"
             ],
             [
              0.1111111111111111,
              "#46039f"
             ],
             [
              0.2222222222222222,
              "#7201a8"
             ],
             [
              0.3333333333333333,
              "#9c179e"
             ],
             [
              0.4444444444444444,
              "#bd3786"
             ],
             [
              0.5555555555555556,
              "#d8576b"
             ],
             [
              0.6666666666666666,
              "#ed7953"
             ],
             [
              0.7777777777777778,
              "#fb9f3a"
             ],
             [
              0.8888888888888888,
              "#fdca26"
             ],
             [
              1,
              "#f0f921"
             ]
            ],
            "type": "histogram2dcontour"
           }
          ],
          "mesh3d": [
           {
            "colorbar": {
             "outlinewidth": 0,
             "ticks": ""
            },
            "type": "mesh3d"
           }
          ],
          "parcoords": [
           {
            "line": {
             "colorbar": {
              "outlinewidth": 0,
              "ticks": ""
             }
            },
            "type": "parcoords"
           }
          ],
          "pie": [
           {
            "automargin": true,
            "type": "pie"
           }
          ],
          "scatter": [
           {
            "fillpattern": {
             "fillmode": "overlay",
             "size": 10,
             "solidity": 0.2
            },
            "type": "scatter"
           }
          ],
          "scatter3d": [
           {
            "line": {
             "colorbar": {
              "outlinewidth": 0,
              "ticks": ""
             }
            },
            "marker": {
             "colorbar": {
              "outlinewidth": 0,
              "ticks": ""
             }
            },
            "type": "scatter3d"
           }
          ],
          "scattercarpet": [
           {
            "marker": {
             "colorbar": {
              "outlinewidth": 0,
              "ticks": ""
             }
            },
            "type": "scattercarpet"
           }
          ],
          "scattergeo": [
           {
            "marker": {
             "colorbar": {
              "outlinewidth": 0,
              "ticks": ""
             }
            },
            "type": "scattergeo"
           }
          ],
          "scattergl": [
           {
            "marker": {
             "colorbar": {
              "outlinewidth": 0,
              "ticks": ""
             }
            },
            "type": "scattergl"
           }
          ],
          "scattermap": [
           {
            "marker": {
             "colorbar": {
              "outlinewidth": 0,
              "ticks": ""
             }
            },
            "type": "scattermap"
           }
          ],
          "scattermapbox": [
           {
            "marker": {
             "colorbar": {
              "outlinewidth": 0,
              "ticks": ""
             }
            },
            "type": "scattermapbox"
           }
          ],
          "scatterpolar": [
           {
            "marker": {
             "colorbar": {
              "outlinewidth": 0,
              "ticks": ""
             }
            },
            "type": "scatterpolar"
           }
          ],
          "scatterpolargl": [
           {
            "marker": {
             "colorbar": {
              "outlinewidth": 0,
              "ticks": ""
             }
            },
            "type": "scatterpolargl"
           }
          ],
          "scatterternary": [
           {
            "marker": {
             "colorbar": {
              "outlinewidth": 0,
              "ticks": ""
             }
            },
            "type": "scatterternary"
           }
          ],
          "surface": [
           {
            "colorbar": {
             "outlinewidth": 0,
             "ticks": ""
            },
            "colorscale": [
             [
              0,
              "#0d0887"
             ],
             [
              0.1111111111111111,
              "#46039f"
             ],
             [
              0.2222222222222222,
              "#7201a8"
             ],
             [
              0.3333333333333333,
              "#9c179e"
             ],
             [
              0.4444444444444444,
              "#bd3786"
             ],
             [
              0.5555555555555556,
              "#d8576b"
             ],
             [
              0.6666666666666666,
              "#ed7953"
             ],
             [
              0.7777777777777778,
              "#fb9f3a"
             ],
             [
              0.8888888888888888,
              "#fdca26"
             ],
             [
              1,
              "#f0f921"
             ]
            ],
            "type": "surface"
           }
          ],
          "table": [
           {
            "cells": {
             "fill": {
              "color": "#EBF0F8"
             },
             "line": {
              "color": "white"
             }
            },
            "header": {
             "fill": {
              "color": "#C8D4E3"
             },
             "line": {
              "color": "white"
             }
            },
            "type": "table"
           }
          ]
         },
         "layout": {
          "annotationdefaults": {
           "arrowcolor": "#2a3f5f",
           "arrowhead": 0,
           "arrowwidth": 1
          },
          "autotypenumbers": "strict",
          "coloraxis": {
           "colorbar": {
            "outlinewidth": 0,
            "ticks": ""
           }
          },
          "colorscale": {
           "diverging": [
            [
             0,
             "#8e0152"
            ],
            [
             0.1,
             "#c51b7d"
            ],
            [
             0.2,
             "#de77ae"
            ],
            [
             0.3,
             "#f1b6da"
            ],
            [
             0.4,
             "#fde0ef"
            ],
            [
             0.5,
             "#f7f7f7"
            ],
            [
             0.6,
             "#e6f5d0"
            ],
            [
             0.7,
             "#b8e186"
            ],
            [
             0.8,
             "#7fbc41"
            ],
            [
             0.9,
             "#4d9221"
            ],
            [
             1,
             "#276419"
            ]
           ],
           "sequential": [
            [
             0,
             "#0d0887"
            ],
            [
             0.1111111111111111,
             "#46039f"
            ],
            [
             0.2222222222222222,
             "#7201a8"
            ],
            [
             0.3333333333333333,
             "#9c179e"
            ],
            [
             0.4444444444444444,
             "#bd3786"
            ],
            [
             0.5555555555555556,
             "#d8576b"
            ],
            [
             0.6666666666666666,
             "#ed7953"
            ],
            [
             0.7777777777777778,
             "#fb9f3a"
            ],
            [
             0.8888888888888888,
             "#fdca26"
            ],
            [
             1,
             "#f0f921"
            ]
           ],
           "sequentialminus": [
            [
             0,
             "#0d0887"
            ],
            [
             0.1111111111111111,
             "#46039f"
            ],
            [
             0.2222222222222222,
             "#7201a8"
            ],
            [
             0.3333333333333333,
             "#9c179e"
            ],
            [
             0.4444444444444444,
             "#bd3786"
            ],
            [
             0.5555555555555556,
             "#d8576b"
            ],
            [
             0.6666666666666666,
             "#ed7953"
            ],
            [
             0.7777777777777778,
             "#fb9f3a"
            ],
            [
             0.8888888888888888,
             "#fdca26"
            ],
            [
             1,
             "#f0f921"
            ]
           ]
          },
          "colorway": [
           "#636efa",
           "#EF553B",
           "#00cc96",
           "#ab63fa",
           "#FFA15A",
           "#19d3f3",
           "#FF6692",
           "#B6E880",
           "#FF97FF",
           "#FECB52"
          ],
          "font": {
           "color": "#2a3f5f"
          },
          "geo": {
           "bgcolor": "white",
           "lakecolor": "white",
           "landcolor": "#E5ECF6",
           "showlakes": true,
           "showland": true,
           "subunitcolor": "white"
          },
          "hoverlabel": {
           "align": "left"
          },
          "hovermode": "closest",
          "mapbox": {
           "style": "light"
          },
          "paper_bgcolor": "white",
          "plot_bgcolor": "#E5ECF6",
          "polar": {
           "angularaxis": {
            "gridcolor": "white",
            "linecolor": "white",
            "ticks": ""
           },
           "bgcolor": "#E5ECF6",
           "radialaxis": {
            "gridcolor": "white",
            "linecolor": "white",
            "ticks": ""
           }
          },
          "scene": {
           "xaxis": {
            "backgroundcolor": "#E5ECF6",
            "gridcolor": "white",
            "gridwidth": 2,
            "linecolor": "white",
            "showbackground": true,
            "ticks": "",
            "zerolinecolor": "white"
           },
           "yaxis": {
            "backgroundcolor": "#E5ECF6",
            "gridcolor": "white",
            "gridwidth": 2,
            "linecolor": "white",
            "showbackground": true,
            "ticks": "",
            "zerolinecolor": "white"
           },
           "zaxis": {
            "backgroundcolor": "#E5ECF6",
            "gridcolor": "white",
            "gridwidth": 2,
            "linecolor": "white",
            "showbackground": true,
            "ticks": "",
            "zerolinecolor": "white"
           }
          },
          "shapedefaults": {
           "line": {
            "color": "#2a3f5f"
           }
          },
          "ternary": {
           "aaxis": {
            "gridcolor": "white",
            "linecolor": "white",
            "ticks": ""
           },
           "baxis": {
            "gridcolor": "white",
            "linecolor": "white",
            "ticks": ""
           },
           "bgcolor": "#E5ECF6",
           "caxis": {
            "gridcolor": "white",
            "linecolor": "white",
            "ticks": ""
           }
          },
          "title": {
           "x": 0.05
          },
          "xaxis": {
           "automargin": true,
           "gridcolor": "white",
           "linecolor": "white",
           "ticks": "",
           "title": {
            "standoff": 15
           },
           "zerolinecolor": "white",
           "zerolinewidth": 2
          },
          "yaxis": {
           "automargin": true,
           "gridcolor": "white",
           "linecolor": "white",
           "ticks": "",
           "title": {
            "standoff": 15
           },
           "zerolinecolor": "white",
           "zerolinewidth": 2
          }
         }
        }
       }
      }
     },
     "metadata": {},
     "output_type": "display_data"
    }
   ],
   "source": [
    "# Agora o dashboard interativo com os segmentos de clientes\n",
    "fig = go.Figure(go.Treemap(\n",
    "    labels = rfm_level_ag['Segmento de Cliente'],\n",
    "    parents = ['Segmento de Cliente', \n",
    "               'Segmento de Cliente', \n",
    "               'Segmento de Cliente', \n",
    "               'Segmento de Cliente', \n",
    "               'Segmento de Cliente', \n",
    "               'Segmento de Cliente', \n",
    "               'Segmento de Cliente'],  \n",
    "    values = rfm_level_ag[('Monetary', 'count')]))\n",
    "fig.show()"
   ]
  },
  {
   "cell_type": "markdown",
   "metadata": {},
   "source": [
    "# Fim"
   ]
  }
 ],
 "metadata": {
  "kernelspec": {
   "display_name": ".venv",
   "language": "python",
   "name": "python3"
  },
  "language_info": {
   "codemirror_mode": {
    "name": "ipython",
    "version": 3
   },
   "file_extension": ".py",
   "mimetype": "text/x-python",
   "name": "python",
   "nbconvert_exporter": "python",
   "pygments_lexer": "ipython3",
   "version": "3.11.5"
  }
 },
 "nbformat": 4,
 "nbformat_minor": 4
}
